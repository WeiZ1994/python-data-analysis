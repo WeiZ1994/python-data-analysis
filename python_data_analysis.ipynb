{
 "cells": [
  {
   "cell_type": "code",
   "execution_count": 1,
   "id": "15e74e5b",
   "metadata": {},
   "outputs": [
    {
     "name": "stdout",
     "output_type": "stream",
     "text": [
      "hello world\n"
     ]
    }
   ],
   "source": [
    "print(\"hello world\")"
   ]
  },
  {
   "cell_type": "markdown",
   "id": "8d00d108",
   "metadata": {},
   "source": [
    "[Wei Zhao website](https://weizhaowz.notion.site/Wei-Zhao-6d57a70c1166484eb60bb6dae5cec7ba)"
   ]
  },
  {
   "cell_type": "markdown",
   "id": "0f6219f4",
   "metadata": {},
   "source": [
    "```Python\n",
    "import math\n",
    "print(\"Hello\")\n",
    "print(math.pi)```"
   ]
  },
  {
   "cell_type": "markdown",
   "id": "c2b9f8cd",
   "metadata": {},
   "source": [
    "用Python做数据分析离不开两个最常用的库，numpy(Numerical Python)和pandas.Numpy是很多数据或科学相关Python包的基础，包括Pandas。Numpy里最核心的数据结构叫ND array，意思为n维数组。一个一维数组和python的内置list很相似。不同之处在于，numpy数组里的数据类型需要统一， 例如全是数字或者全是字符串。但是list没有这个要求。Numpy是第三方库，需要import"
   ]
  },
  {
   "cell_type": "code",
   "execution_count": 1,
   "id": "54c33d29",
   "metadata": {},
   "outputs": [],
   "source": [
    "import numpy as np"
   ]
  },
  {
   "cell_type": "markdown",
   "id": "0adcdebb",
   "metadata": {},
   "source": [
    "创建一个数组，最直观的方法就是通过numpy的array方法，把列表转换成数组。\n",
    "数组对象的属性：1，ndim返回数组的维度。2shape会返回一个元祖，表示各个维度的元素的个数。3，size返回数组里面元素的总个数。4， dtype返回数组元素的类型。\n",
    "除了通过array方法手动传入元素值创建数组np.array()。numpy也提供了其它一些创造数组的方法， np.ones(5), np.arange(5,10,2)和range方法类似"
   ]
  },
  {
   "cell_type": "code",
   "execution_count": 4,
   "id": "c81a861d",
   "metadata": {},
   "outputs": [
    {
     "data": {
      "text/plain": [
       "array([ 6,  2, -7,  2,  8, -2,  1])"
      ]
     },
     "execution_count": 4,
     "metadata": {},
     "output_type": "execute_result"
    }
   ],
   "source": [
    "arr1=np.array([6,2,-7,2,8,-2,1])\n",
    "arr1"
   ]
  },
  {
   "cell_type": "code",
   "execution_count": 6,
   "id": "a9e80006",
   "metadata": {},
   "outputs": [
    {
     "data": {
      "text/plain": [
       "array([[1, 3, 5],\n",
       "       [2, 4, 6]])"
      ]
     },
     "execution_count": 6,
     "metadata": {},
     "output_type": "execute_result"
    }
   ],
   "source": [
    "arr2=np.array([[1,3,5], [2,4,6]])\n",
    "arr2"
   ]
  },
  {
   "cell_type": "code",
   "execution_count": 9,
   "id": "943d7209",
   "metadata": {},
   "outputs": [
    {
     "name": "stdout",
     "output_type": "stream",
     "text": [
      "1\n",
      "(7,)\n",
      "7\n",
      "int64\n",
      "2\n",
      "(2, 3)\n",
      "6\n",
      "int64\n"
     ]
    }
   ],
   "source": [
    "print(arr1.ndim)\n",
    "print(arr1.shape)\n",
    "print(arr1.size)\n",
    "print(arr1.dtype)\n",
    "print(arr2.ndim)\n",
    "print(arr2.shape)\n",
    "print(arr2.size)\n",
    "print(arr2.dtype)"
   ]
  },
  {
   "cell_type": "code",
   "execution_count": 10,
   "id": "2e8f07b3",
   "metadata": {},
   "outputs": [
    {
     "data": {
      "text/plain": [
       "array([0., 0., 0., 0., 0., 0.])"
      ]
     },
     "execution_count": 10,
     "metadata": {},
     "output_type": "execute_result"
    }
   ],
   "source": [
    "arr_all_0=np.zeros(6)\n",
    "arr_all_0"
   ]
  },
  {
   "cell_type": "code",
   "execution_count": 11,
   "id": "6e7a8a03",
   "metadata": {},
   "outputs": [
    {
     "data": {
      "text/plain": [
       "array([1., 1., 1., 1., 1., 1.])"
      ]
     },
     "execution_count": 11,
     "metadata": {},
     "output_type": "execute_result"
    }
   ],
   "source": [
    "arr_all_1=np.ones(6)\n",
    "arr_all_1"
   ]
  },
  {
   "cell_type": "code",
   "execution_count": 12,
   "id": "cd1384e3",
   "metadata": {},
   "outputs": [
    {
     "data": {
      "text/plain": [
       "array([10, 12, 14, 16, 18, 20])"
      ]
     },
     "execution_count": 12,
     "metadata": {},
     "output_type": "execute_result"
    }
   ],
   "source": [
    "arr_even=np.arange(10,21,2)\n",
    "arr_even"
   ]
  },
  {
   "cell_type": "markdown",
   "id": "35074308",
   "metadata": {},
   "source": [
    "concatenate连接数组.\n",
    "np.sort返回排序好的新数组，但是传入的原始数组不会被改变。\n",
    "arr1.sort()会直接在该数组上进行改动。\n",
    "numpy数组的强项之一是运算。用数组极其简单但用list不方便的是：根据特定条件从数组中筛选出值。arr[arr>6]"
   ]
  },
  {
   "cell_type": "code",
   "execution_count": 15,
   "id": "f563c4b6",
   "metadata": {},
   "outputs": [
    {
     "data": {
      "text/plain": [
       "array([ 5., 17.,  3., 26., 31.,  0.,  0.,  1.,  1.,  1.])"
      ]
     },
     "execution_count": 15,
     "metadata": {},
     "output_type": "execute_result"
    }
   ],
   "source": [
    "arr1=np.array([5,17,3,26,31])\n",
    "arr2=np.zeros(2)\n",
    "arr3=np.ones(3)\n",
    "arr4=np.concatenate([arr1,arr2,arr3])\n",
    "arr4"
   ]
  },
  {
   "cell_type": "code",
   "execution_count": 16,
   "id": "e27296e1",
   "metadata": {},
   "outputs": [
    {
     "data": {
      "text/plain": [
       "array([17., 26., 31.])"
      ]
     },
     "execution_count": 16,
     "metadata": {},
     "output_type": "execute_result"
    }
   ],
   "source": [
    "arr5=arr4[arr4>6]\n",
    "arr5"
   ]
  },
  {
   "cell_type": "code",
   "execution_count": 17,
   "id": "2cdc6372",
   "metadata": {},
   "outputs": [
    {
     "data": {
      "text/plain": [
       "array([1., 3., 2., 4., 9., 1., 1., 1., 1., 1., 0., 0., 0.])"
      ]
     },
     "execution_count": 17,
     "metadata": {},
     "output_type": "execute_result"
    }
   ],
   "source": [
    "arr1=np.array([1,3,2,4,9])\n",
    "arr2=np.ones(5)\n",
    "arr3=np.zeros(3)\n",
    "arr4=np.concatenate([arr1,arr2,arr3])\n",
    "arr4"
   ]
  },
  {
   "cell_type": "code",
   "execution_count": 19,
   "id": "5db68918",
   "metadata": {},
   "outputs": [
    {
     "data": {
      "text/plain": [
       "array([1, 2, 3, 4, 9])"
      ]
     },
     "execution_count": 19,
     "metadata": {},
     "output_type": "execute_result"
    }
   ],
   "source": [
    "arr1.sort()\n",
    "arr1"
   ]
  },
  {
   "cell_type": "code",
   "execution_count": 21,
   "id": "25681178",
   "metadata": {},
   "outputs": [
    {
     "name": "stdout",
     "output_type": "stream",
     "text": [
      "3\n",
      "3\n"
     ]
    }
   ],
   "source": [
    "print(arr1[2])\n",
    "print(arr1[-3])"
   ]
  },
  {
   "cell_type": "code",
   "execution_count": 24,
   "id": "edcbc6d6",
   "metadata": {},
   "outputs": [
    {
     "name": "stdout",
     "output_type": "stream",
     "text": [
      "[2 3 4]\n"
     ]
    }
   ],
   "source": [
    "print(arr1[1:4])"
   ]
  },
  {
   "cell_type": "code",
   "execution_count": 25,
   "id": "767cd90b",
   "metadata": {},
   "outputs": [
    {
     "name": "stdout",
     "output_type": "stream",
     "text": [
      "[ 2.  3.  4.  5. 10.]\n"
     ]
    }
   ],
   "source": [
    "print(arr1+arr2)"
   ]
  },
  {
   "cell_type": "code",
   "execution_count": 26,
   "id": "681be29a",
   "metadata": {},
   "outputs": [
    {
     "data": {
      "text/plain": [
       "array([ -5, -10, -15, -20, -45])"
      ]
     },
     "execution_count": 26,
     "metadata": {},
     "output_type": "execute_result"
    }
   ],
   "source": [
    "arr1*-5"
   ]
  },
  {
   "cell_type": "code",
   "execution_count": 28,
   "id": "659c4f33",
   "metadata": {},
   "outputs": [
    {
     "name": "stdout",
     "output_type": "stream",
     "text": [
      "9\n",
      "1\n",
      "19\n",
      "3.8\n"
     ]
    }
   ],
   "source": [
    "print(arr1.max())\n",
    "print(arr1.min())\n",
    "print(arr1.sum())\n",
    "print(arr1.mean())"
   ]
  },
  {
   "cell_type": "code",
   "execution_count": 31,
   "id": "18c0a8ca",
   "metadata": {},
   "outputs": [
    {
     "data": {
      "text/plain": [
       "array([], dtype=int64)"
      ]
     },
     "execution_count": 31,
     "metadata": {},
     "output_type": "execute_result"
    }
   ],
   "source": [
    "arr1[arr1<1]"
   ]
  },
  {
   "cell_type": "code",
   "execution_count": 32,
   "id": "62d24250",
   "metadata": {},
   "outputs": [
    {
     "data": {
      "text/plain": [
       "array([4, 9])"
      ]
     },
     "execution_count": 32,
     "metadata": {},
     "output_type": "execute_result"
    }
   ],
   "source": [
    "arr1[arr1>3]"
   ]
  },
  {
   "cell_type": "code",
   "execution_count": 34,
   "id": "f1ca2502",
   "metadata": {},
   "outputs": [
    {
     "data": {
      "text/plain": [
       "array([4, 9])"
      ]
     },
     "execution_count": 34,
     "metadata": {},
     "output_type": "execute_result"
    }
   ],
   "source": [
    "arr1[(arr1<1)|(arr1>3)]"
   ]
  },
  {
   "cell_type": "markdown",
   "id": "0aa4dd0b",
   "metadata": {},
   "source": [
    "pandas是基于numpy的。 新的数据分析库pandas。既然都有bumpy这个专门针对计算用的库，为啥还要学pandas？pandas的优点在于，由于它是构建在numpy之上的，所以继承了numpy高性能的数组计算功能，同时它还提供了更多复杂精细的数据处理功能。"
   ]
  },
  {
   "cell_type": "code",
   "execution_count": 163,
   "id": "eec232d1",
   "metadata": {},
   "outputs": [],
   "source": [
    "import pandas as pd\n",
    "import numpy as np"
   ]
  },
  {
   "cell_type": "markdown",
   "id": "f81fcae4",
   "metadata": {},
   "source": [
    "pandas提供了更好的索引取值或切片方法。\n",
    "loc:表示用标签索引去取值或切片\n",
    "iloc：表示用原始位置索引去取值或切片"
   ]
  },
  {
   "cell_type": "code",
   "execution_count": 38,
   "id": "5e09449b",
   "metadata": {},
   "outputs": [
    {
     "data": {
      "text/plain": [
       "0   -1.2\n",
       "1    3.7\n",
       "2    2.5\n",
       "3   -8.2\n",
       "4    6.3\n",
       "dtype: float64"
      ]
     },
     "execution_count": 38,
     "metadata": {},
     "output_type": "execute_result"
    }
   ],
   "source": [
    "s1=pd.Series([-1.2, 3.7, 2.5, -8.2, 6.3])\n",
    "s1"
   ]
  },
  {
   "cell_type": "code",
   "execution_count": 42,
   "id": "b2aadaa3",
   "metadata": {},
   "outputs": [
    {
     "name": "stdout",
     "output_type": "stream",
     "text": [
      "RangeIndex(start=0, stop=5, step=1)\n",
      "[-1.2  3.7  2.5 -8.2  6.3]\n"
     ]
    }
   ],
   "source": [
    "print(s1.index)\n",
    "print(s1.values)"
   ]
  },
  {
   "cell_type": "code",
   "execution_count": 44,
   "id": "32ba0d1e",
   "metadata": {},
   "outputs": [
    {
     "data": {
      "text/plain": [
       "5    1\n",
       "4    2\n",
       "3    3\n",
       "2    4\n",
       "1    5\n",
       "dtype: int64"
      ]
     },
     "execution_count": 44,
     "metadata": {},
     "output_type": "execute_result"
    }
   ],
   "source": [
    "s2=pd.Series([1,2,3,4,5], index=[5,4,3,2,1])\n",
    "s2"
   ]
  },
  {
   "cell_type": "code",
   "execution_count": 47,
   "id": "ee87a34b",
   "metadata": {},
   "outputs": [
    {
     "data": {
      "text/plain": [
       "2"
      ]
     },
     "execution_count": 47,
     "metadata": {},
     "output_type": "execute_result"
    }
   ],
   "source": [
    "#按位置排序排在第2个的元素\n",
    "s2.iloc[1]"
   ]
  },
  {
   "cell_type": "code",
   "execution_count": 48,
   "id": "fd98f58e",
   "metadata": {},
   "outputs": [
    {
     "data": {
      "text/plain": [
       "5    1\n",
       "4    2\n",
       "3    3\n",
       "dtype: int64"
      ]
     },
     "execution_count": 48,
     "metadata": {},
     "output_type": "execute_result"
    }
   ],
   "source": [
    "#输出s2里按标签对应从5到3（包括3）范围内的元素\n",
    "s2.loc[5:3]"
   ]
  },
  {
   "cell_type": "code",
   "execution_count": 49,
   "id": "4bc9d804",
   "metadata": {},
   "outputs": [
    {
     "data": {
      "text/plain": [
       "小李    82\n",
       "小陈    93\n",
       "小张    91\n",
       "小曾    78\n",
       "小邓    68\n",
       "dtype: int64"
      ]
     },
     "execution_count": 49,
     "metadata": {},
     "output_type": "execute_result"
    }
   ],
   "source": [
    "s3=pd.Series({\"小李\":82, \"小陈\":93, \"小张\":91, \"小曾\": 78,\"小邓\": 68})\n",
    "s3"
   ]
  },
  {
   "cell_type": "code",
   "execution_count": 51,
   "id": "f4e1d2e7",
   "metadata": {},
   "outputs": [
    {
     "data": {
      "text/plain": [
       "小李    82\n",
       "小陈    93\n",
       "小张    95\n",
       "小曾    78\n",
       "小邓    68\n",
       "dtype: int64"
      ]
     },
     "execution_count": 51,
     "metadata": {},
     "output_type": "execute_result"
    }
   ],
   "source": [
    "s3.loc[\"小张\"]=95\n",
    "s3"
   ]
  },
  {
   "cell_type": "code",
   "execution_count": 52,
   "id": "96afbe98",
   "metadata": {},
   "outputs": [
    {
     "data": {
      "text/plain": [
       "小李    82\n",
       "小陈    93\n",
       "小张    95\n",
       "dtype: int64"
      ]
     },
     "execution_count": 52,
     "metadata": {},
     "output_type": "execute_result"
    }
   ],
   "source": [
    "s3[s3>80]"
   ]
  },
  {
   "cell_type": "code",
   "execution_count": 53,
   "id": "8b88ff80",
   "metadata": {},
   "outputs": [
    {
     "data": {
      "text/plain": [
       "小李    82\n",
       "小曾    78\n",
       "小邓    68\n",
       "dtype: int64"
      ]
     },
     "execution_count": 53,
     "metadata": {},
     "output_type": "execute_result"
    }
   ],
   "source": [
    "s3[s3<90]"
   ]
  },
  {
   "cell_type": "code",
   "execution_count": 56,
   "id": "cd336869",
   "metadata": {},
   "outputs": [
    {
     "data": {
      "text/plain": [
       "小李    82\n",
       "dtype: int64"
      ]
     },
     "execution_count": 56,
     "metadata": {},
     "output_type": "execute_result"
    }
   ],
   "source": [
    "s3[(s3>80) & (s3<90)]"
   ]
  },
  {
   "cell_type": "markdown",
   "id": "841415ed",
   "metadata": {},
   "source": [
    "series之间的运算会自动进行索引对齐，只有当某个索引同时出现在两个series里时，结果里才会有对应的值。如果希望给缺失的值一个默认值的话，可以用方法而不是用符号去做这些操作，然后给fill_value这个参数传入一个值，用符号的话我们没办法额外传参。比如从+符号改为用add方法。\n",
    "Describe方法，这是数组没有的。"
   ]
  },
  {
   "cell_type": "markdown",
   "id": "90f31f35",
   "metadata": {},
   "source": [
    "如何对series里每一个元素都运用这个函数，得到对应结果组成的新series\n",
    "apply： apply方法并不改变原始series\n",
    "除了传入定义好的函数名，在函数逻辑比较简单的时候，还可以使用匿名函数。能定义出来的函数，我们都可以作用在series的各个元素上，得到新的series"
   ]
  },
  {
   "cell_type": "code",
   "execution_count": 58,
   "id": "429e9471",
   "metadata": {},
   "outputs": [
    {
     "data": {
      "text/plain": [
       "小李    B\n",
       "小陈    A\n",
       "小张    A\n",
       "小曾    C\n",
       "小邓    D\n",
       "dtype: object"
      ]
     },
     "execution_count": 58,
     "metadata": {},
     "output_type": "execute_result"
    }
   ],
   "source": [
    "def get_grade_from_score(score):\n",
    "    if score>=90:\n",
    "        return \"A\"\n",
    "    elif score>=80:\n",
    "        return \"B\"\n",
    "    elif score>=70:\n",
    "        return \"C\"\n",
    "    else:\n",
    "        return \"D\"\n",
    "grades=s3.apply(get_grade_from_score)\n",
    "grades\n",
    "squared_score=s3.apply(lamda x: x*x)\n",
    "squared_score"
   ]
  },
  {
   "cell_type": "code",
   "execution_count": 61,
   "id": "7474b42e",
   "metadata": {},
   "outputs": [
    {
     "name": "stdout",
     "output_type": "stream",
     "text": [
      "小明    92\n",
      "小红    67\n",
      "小杰    70\n",
      "小丽    88\n",
      "小华    76\n",
      "dtype: int64\n",
      "小明    95\n",
      "小杰    85\n",
      "小宇    60\n",
      "小娟    79\n",
      "小彤    76\n",
      "dtype: int64\n"
     ]
    }
   ],
   "source": [
    "s1=pd.Series([92,67,70,88,76], index=[\"小明\", \"小红\", \"小杰\", \"小丽\", \"小华\"])\n",
    "s2=pd.Series([95,85,60,79,76], index=[\"小明\",\"小杰\",\"小宇\",\"小娟\",\"小彤\"])\n",
    "print(s1)\n",
    "print(s2)"
   ]
  },
  {
   "cell_type": "code",
   "execution_count": 62,
   "id": "9f349db5",
   "metadata": {},
   "outputs": [
    {
     "data": {
      "text/plain": [
       "小丽      NaN\n",
       "小华      NaN\n",
       "小娟      NaN\n",
       "小宇      NaN\n",
       "小彤      NaN\n",
       "小明    187.0\n",
       "小杰    155.0\n",
       "小红      NaN\n",
       "dtype: float64"
      ]
     },
     "execution_count": 62,
     "metadata": {},
     "output_type": "execute_result"
    }
   ],
   "source": [
    "s1+s2"
   ]
  },
  {
   "cell_type": "code",
   "execution_count": 63,
   "id": "45d11199",
   "metadata": {},
   "outputs": [
    {
     "data": {
      "text/plain": [
       "小丽      NaN\n",
       "小华      NaN\n",
       "小娟      NaN\n",
       "小宇      NaN\n",
       "小彤      NaN\n",
       "小明    187.0\n",
       "小杰    155.0\n",
       "小红      NaN\n",
       "dtype: float64"
      ]
     },
     "execution_count": 63,
     "metadata": {},
     "output_type": "execute_result"
    }
   ],
   "source": [
    "s1.add(s2)"
   ]
  },
  {
   "cell_type": "code",
   "execution_count": 64,
   "id": "4d432df4",
   "metadata": {},
   "outputs": [
    {
     "data": {
      "text/plain": [
       "小丽     88.0\n",
       "小华     76.0\n",
       "小娟     79.0\n",
       "小宇     60.0\n",
       "小彤     76.0\n",
       "小明    187.0\n",
       "小杰    155.0\n",
       "小红     67.0\n",
       "dtype: float64"
      ]
     },
     "execution_count": 64,
     "metadata": {},
     "output_type": "execute_result"
    }
   ],
   "source": [
    "s1.add(s2, fill_value=0)"
   ]
  },
  {
   "cell_type": "code",
   "execution_count": 65,
   "id": "d6f583e6",
   "metadata": {},
   "outputs": [
    {
     "name": "stdout",
     "output_type": "stream",
     "text": [
      "count     5.000000\n",
      "mean     78.600000\n",
      "std      10.990905\n",
      "min      67.000000\n",
      "25%      70.000000\n",
      "50%      76.000000\n",
      "75%      88.000000\n",
      "max      92.000000\n",
      "dtype: float64\n"
     ]
    }
   ],
   "source": [
    "print(s1.describe())"
   ]
  },
  {
   "cell_type": "code",
   "execution_count": 66,
   "id": "35e32687",
   "metadata": {},
   "outputs": [
    {
     "data": {
      "text/plain": [
       "小明    97\n",
       "小红    72\n",
       "小杰    75\n",
       "小丽    93\n",
       "小华    81\n",
       "dtype: int64"
      ]
     },
     "execution_count": 66,
     "metadata": {},
     "output_type": "execute_result"
    }
   ],
   "source": [
    "s1=s1+5\n",
    "s1"
   ]
  },
  {
   "cell_type": "code",
   "execution_count": 67,
   "id": "93843f66",
   "metadata": {},
   "outputs": [
    {
     "data": {
      "text/plain": [
       "小明    A\n",
       "小红    C\n",
       "小杰    C\n",
       "小丽    A\n",
       "小华    B\n",
       "dtype: object"
      ]
     },
     "execution_count": 67,
     "metadata": {},
     "output_type": "execute_result"
    }
   ],
   "source": [
    "s1.apply(get_grade_from_score)"
   ]
  },
  {
   "cell_type": "markdown",
   "id": "abcaa9a6",
   "metadata": {},
   "source": [
    "DataFrame: 多个series组成的DataFrame，不同列可以是不同数据类型。而不是像numpy二维数组那样要求数据类型全部保持一致。\n",
    "获取DataFrame的所有索引可以用index属性，获取所有列名可用column属性，这些索引值的类型都是pandas库的index类。要获取所有的值，用values属性，返回的类型是numpy数组，所有针对numpy数组的操作都可以用在values属性上。"
   ]
  },
  {
   "cell_type": "code",
   "execution_count": 69,
   "id": "92ce467a",
   "metadata": {},
   "outputs": [],
   "source": [
    "name=pd.Series([\"小陈\", \"小李\", \"小王\", \"小张\", \"小赵\", \"小周\"], index=[\"001\", \"002\", \"003\", \"004\", \"005\", \"006\"])\n",
    "gender=pd.Series([\"女\", \"女\", \"男\", \"男\", \"女\", \"男\"], index=[\"006\", \"005\", \"004\", \"003\", \"002\", \"001\"])\n",
    "height=pd.Series([172.5, 168.0, 178.2, 181.3, 161.7], index=[\"001\", \"002\", \"003\", \"004\", \"005\"])"
   ]
  },
  {
   "cell_type": "code",
   "execution_count": 94,
   "id": "62caf9d9",
   "metadata": {},
   "outputs": [
    {
     "data": {
      "text/html": [
       "<div>\n",
       "<style scoped>\n",
       "    .dataframe tbody tr th:only-of-type {\n",
       "        vertical-align: middle;\n",
       "    }\n",
       "\n",
       "    .dataframe tbody tr th {\n",
       "        vertical-align: top;\n",
       "    }\n",
       "\n",
       "    .dataframe thead th {\n",
       "        text-align: right;\n",
       "    }\n",
       "</style>\n",
       "<table border=\"1\" class=\"dataframe\">\n",
       "  <thead>\n",
       "    <tr style=\"text-align: right;\">\n",
       "      <th></th>\n",
       "      <th>姓名</th>\n",
       "      <th>性别</th>\n",
       "      <th>身高</th>\n",
       "    </tr>\n",
       "  </thead>\n",
       "  <tbody>\n",
       "    <tr>\n",
       "      <th>001</th>\n",
       "      <td>小陈</td>\n",
       "      <td>男</td>\n",
       "      <td>172.5</td>\n",
       "    </tr>\n",
       "    <tr>\n",
       "      <th>002</th>\n",
       "      <td>小李</td>\n",
       "      <td>女</td>\n",
       "      <td>168.0</td>\n",
       "    </tr>\n",
       "    <tr>\n",
       "      <th>003</th>\n",
       "      <td>小王</td>\n",
       "      <td>男</td>\n",
       "      <td>178.2</td>\n",
       "    </tr>\n",
       "    <tr>\n",
       "      <th>004</th>\n",
       "      <td>小张</td>\n",
       "      <td>男</td>\n",
       "      <td>181.3</td>\n",
       "    </tr>\n",
       "    <tr>\n",
       "      <th>005</th>\n",
       "      <td>小赵</td>\n",
       "      <td>女</td>\n",
       "      <td>161.7</td>\n",
       "    </tr>\n",
       "    <tr>\n",
       "      <th>006</th>\n",
       "      <td>小周</td>\n",
       "      <td>女</td>\n",
       "      <td>NaN</td>\n",
       "    </tr>\n",
       "  </tbody>\n",
       "</table>\n",
       "</div>"
      ],
      "text/plain": [
       "     姓名 性别     身高\n",
       "001  小陈  男  172.5\n",
       "002  小李  女  168.0\n",
       "003  小王  男  178.2\n",
       "004  小张  男  181.3\n",
       "005  小赵  女  161.7\n",
       "006  小周  女    NaN"
      ]
     },
     "execution_count": 94,
     "metadata": {},
     "output_type": "execute_result"
    }
   ],
   "source": [
    "students=pd.DataFrame({\"姓名\":name, \"性别\": gender, \"身高\": height})\n",
    "students"
   ]
  },
  {
   "cell_type": "code",
   "execution_count": 77,
   "id": "d9f4df9d",
   "metadata": {},
   "outputs": [
    {
     "name": "stdout",
     "output_type": "stream",
     "text": [
      "Index(['001', '002', '003', '004', '005', '006'], dtype='object')\n",
      "Index(['姓名', '性别', '身高'], dtype='object')\n",
      "[['小陈' '男' 172.5]\n",
      " ['小李' '女' 168.0]\n",
      " ['小王' '男' 178.2]\n",
      " ['小张' '男' 181.3]\n",
      " ['小赵' '女' 161.7]\n",
      " ['小周' '女' nan]]\n",
      "      001    002    003    004    005  006\n",
      "姓名     小陈     小李     小王     小张     小赵   小周\n",
      "性别      男      女      男      男      女    女\n",
      "身高  172.5  168.0  178.2  181.3  161.7  NaN\n",
      "001    172.5\n",
      "002    168.0\n",
      "003    178.2\n",
      "004    181.3\n",
      "005    161.7\n",
      "006      NaN\n",
      "Name: 身高, dtype: float64\n"
     ]
    }
   ],
   "source": [
    "print(students.index)\n",
    "print(students.columns)\n",
    "print(students.values)\n",
    "print(students.T)"
   ]
  },
  {
   "cell_type": "code",
   "execution_count": 78,
   "id": "e1ea8711",
   "metadata": {},
   "outputs": [
    {
     "name": "stdout",
     "output_type": "stream",
     "text": [
      "001    172.5\n",
      "002    168.0\n",
      "003    178.2\n",
      "004    181.3\n",
      "005    161.7\n",
      "006      NaN\n",
      "Name: 身高, dtype: float64\n"
     ]
    }
   ],
   "source": [
    "print(students[\"身高\"])"
   ]
  },
  {
   "cell_type": "code",
   "execution_count": 81,
   "id": "3e0cef44",
   "metadata": {},
   "outputs": [
    {
     "name": "stdout",
     "output_type": "stream",
     "text": [
      "        身高 性别\n",
      "001  172.5  男\n",
      "002  168.0  女\n",
      "003  178.2  男\n",
      "004  181.3  男\n",
      "005  161.7  女\n",
      "006    NaN  女\n"
     ]
    }
   ],
   "source": [
    "print(students[[\"身高\", \"性别\"]])"
   ]
  },
  {
   "cell_type": "code",
   "execution_count": 82,
   "id": "a331d484",
   "metadata": {},
   "outputs": [
    {
     "data": {
      "text/plain": [
       "姓名       小王\n",
       "性别        男\n",
       "身高    178.2\n",
       "Name: 003, dtype: object"
      ]
     },
     "execution_count": 82,
     "metadata": {},
     "output_type": "execute_result"
    }
   ],
   "source": [
    "students.loc[\"003\"]"
   ]
  },
  {
   "cell_type": "code",
   "execution_count": 83,
   "id": "e1a5c9b6",
   "metadata": {},
   "outputs": [
    {
     "data": {
      "text/html": [
       "<div>\n",
       "<style scoped>\n",
       "    .dataframe tbody tr th:only-of-type {\n",
       "        vertical-align: middle;\n",
       "    }\n",
       "\n",
       "    .dataframe tbody tr th {\n",
       "        vertical-align: top;\n",
       "    }\n",
       "\n",
       "    .dataframe thead th {\n",
       "        text-align: right;\n",
       "    }\n",
       "</style>\n",
       "<table border=\"1\" class=\"dataframe\">\n",
       "  <thead>\n",
       "    <tr style=\"text-align: right;\">\n",
       "      <th></th>\n",
       "      <th>姓名</th>\n",
       "      <th>性别</th>\n",
       "      <th>身高</th>\n",
       "    </tr>\n",
       "  </thead>\n",
       "  <tbody>\n",
       "    <tr>\n",
       "      <th>003</th>\n",
       "      <td>小王</td>\n",
       "      <td>男</td>\n",
       "      <td>178.2</td>\n",
       "    </tr>\n",
       "    <tr>\n",
       "      <th>004</th>\n",
       "      <td>小张</td>\n",
       "      <td>男</td>\n",
       "      <td>181.3</td>\n",
       "    </tr>\n",
       "    <tr>\n",
       "      <th>005</th>\n",
       "      <td>小赵</td>\n",
       "      <td>女</td>\n",
       "      <td>161.7</td>\n",
       "    </tr>\n",
       "  </tbody>\n",
       "</table>\n",
       "</div>"
      ],
      "text/plain": [
       "     姓名 性别     身高\n",
       "003  小王  男  178.2\n",
       "004  小张  男  181.3\n",
       "005  小赵  女  161.7"
      ]
     },
     "execution_count": 83,
     "metadata": {},
     "output_type": "execute_result"
    }
   ],
   "source": [
    "students.loc[\"003\":\"005\"]"
   ]
  },
  {
   "cell_type": "code",
   "execution_count": 84,
   "id": "b06360c1",
   "metadata": {},
   "outputs": [
    {
     "data": {
      "text/plain": [
       "161.7"
      ]
     },
     "execution_count": 84,
     "metadata": {},
     "output_type": "execute_result"
    }
   ],
   "source": [
    "students.loc[\"005\", \"身高\"]"
   ]
  },
  {
   "cell_type": "code",
   "execution_count": 85,
   "id": "b8e4e8fa",
   "metadata": {},
   "outputs": [
    {
     "data": {
      "text/html": [
       "<div>\n",
       "<style scoped>\n",
       "    .dataframe tbody tr th:only-of-type {\n",
       "        vertical-align: middle;\n",
       "    }\n",
       "\n",
       "    .dataframe tbody tr th {\n",
       "        vertical-align: top;\n",
       "    }\n",
       "\n",
       "    .dataframe thead th {\n",
       "        text-align: right;\n",
       "    }\n",
       "</style>\n",
       "<table border=\"1\" class=\"dataframe\">\n",
       "  <thead>\n",
       "    <tr style=\"text-align: right;\">\n",
       "      <th></th>\n",
       "      <th>身高</th>\n",
       "      <th>姓名</th>\n",
       "    </tr>\n",
       "  </thead>\n",
       "  <tbody>\n",
       "    <tr>\n",
       "      <th>003</th>\n",
       "      <td>178.2</td>\n",
       "      <td>小王</td>\n",
       "    </tr>\n",
       "    <tr>\n",
       "      <th>005</th>\n",
       "      <td>161.7</td>\n",
       "      <td>小赵</td>\n",
       "    </tr>\n",
       "  </tbody>\n",
       "</table>\n",
       "</div>"
      ],
      "text/plain": [
       "        身高  姓名\n",
       "003  178.2  小王\n",
       "005  161.7  小赵"
      ]
     },
     "execution_count": 85,
     "metadata": {},
     "output_type": "execute_result"
    }
   ],
   "source": [
    "students.loc[[\"003\", \"005\"], [\"身高\", \"姓名\"]]"
   ]
  },
  {
   "cell_type": "code",
   "execution_count": 86,
   "id": "6c288dc8",
   "metadata": {},
   "outputs": [
    {
     "data": {
      "text/html": [
       "<div>\n",
       "<style scoped>\n",
       "    .dataframe tbody tr th:only-of-type {\n",
       "        vertical-align: middle;\n",
       "    }\n",
       "\n",
       "    .dataframe tbody tr th {\n",
       "        vertical-align: top;\n",
       "    }\n",
       "\n",
       "    .dataframe thead th {\n",
       "        text-align: right;\n",
       "    }\n",
       "</style>\n",
       "<table border=\"1\" class=\"dataframe\">\n",
       "  <thead>\n",
       "    <tr style=\"text-align: right;\">\n",
       "      <th></th>\n",
       "      <th>姓名</th>\n",
       "      <th>性别</th>\n",
       "      <th>身高</th>\n",
       "    </tr>\n",
       "  </thead>\n",
       "  <tbody>\n",
       "    <tr>\n",
       "      <th>003</th>\n",
       "      <td>小王</td>\n",
       "      <td>男</td>\n",
       "      <td>178.2</td>\n",
       "    </tr>\n",
       "    <tr>\n",
       "      <th>005</th>\n",
       "      <td>小赵</td>\n",
       "      <td>女</td>\n",
       "      <td>161.7</td>\n",
       "    </tr>\n",
       "  </tbody>\n",
       "</table>\n",
       "</div>"
      ],
      "text/plain": [
       "     姓名 性别     身高\n",
       "003  小王  男  178.2\n",
       "005  小赵  女  161.7"
      ]
     },
     "execution_count": 86,
     "metadata": {},
     "output_type": "execute_result"
    }
   ],
   "source": [
    "students.loc[[\"003\",\"005\"],:]"
   ]
  },
  {
   "cell_type": "code",
   "execution_count": 100,
   "id": "094c3ca3",
   "metadata": {},
   "outputs": [
    {
     "data": {
      "text/html": [
       "<div>\n",
       "<style scoped>\n",
       "    .dataframe tbody tr th:only-of-type {\n",
       "        vertical-align: middle;\n",
       "    }\n",
       "\n",
       "    .dataframe tbody tr th {\n",
       "        vertical-align: top;\n",
       "    }\n",
       "\n",
       "    .dataframe thead th {\n",
       "        text-align: right;\n",
       "    }\n",
       "</style>\n",
       "<table border=\"1\" class=\"dataframe\">\n",
       "  <thead>\n",
       "    <tr style=\"text-align: right;\">\n",
       "      <th></th>\n",
       "      <th>姓名</th>\n",
       "      <th>性别</th>\n",
       "      <th>身高</th>\n",
       "    </tr>\n",
       "  </thead>\n",
       "  <tbody>\n",
       "    <tr>\n",
       "      <th>002</th>\n",
       "      <td>小李</td>\n",
       "      <td>女</td>\n",
       "      <td>168.0</td>\n",
       "    </tr>\n",
       "  </tbody>\n",
       "</table>\n",
       "</div>"
      ],
      "text/plain": [
       "     姓名 性别     身高\n",
       "002  小李  女  168.0"
      ]
     },
     "execution_count": 100,
     "metadata": {},
     "output_type": "execute_result"
    }
   ],
   "source": [
    "students[(students[\"身高\"]>165) & (students[\"性别\"]==\"女\")]"
   ]
  },
  {
   "cell_type": "code",
   "execution_count": 103,
   "id": "4e1930ce",
   "metadata": {},
   "outputs": [
    {
     "data": {
      "text/html": [
       "<div>\n",
       "<style scoped>\n",
       "    .dataframe tbody tr th:only-of-type {\n",
       "        vertical-align: middle;\n",
       "    }\n",
       "\n",
       "    .dataframe tbody tr th {\n",
       "        vertical-align: top;\n",
       "    }\n",
       "\n",
       "    .dataframe thead th {\n",
       "        text-align: right;\n",
       "    }\n",
       "</style>\n",
       "<table border=\"1\" class=\"dataframe\">\n",
       "  <thead>\n",
       "    <tr style=\"text-align: right;\">\n",
       "      <th></th>\n",
       "      <th>姓名</th>\n",
       "      <th>性别</th>\n",
       "      <th>身高</th>\n",
       "    </tr>\n",
       "  </thead>\n",
       "  <tbody>\n",
       "    <tr>\n",
       "      <th>001</th>\n",
       "      <td>小陈</td>\n",
       "      <td>男</td>\n",
       "      <td>172.5</td>\n",
       "    </tr>\n",
       "    <tr>\n",
       "      <th>002</th>\n",
       "      <td>小李</td>\n",
       "      <td>女</td>\n",
       "      <td>168.0</td>\n",
       "    </tr>\n",
       "    <tr>\n",
       "      <th>003</th>\n",
       "      <td>小王</td>\n",
       "      <td>男</td>\n",
       "      <td>178.2</td>\n",
       "    </tr>\n",
       "    <tr>\n",
       "      <th>004</th>\n",
       "      <td>小张</td>\n",
       "      <td>男</td>\n",
       "      <td>181.3</td>\n",
       "    </tr>\n",
       "    <tr>\n",
       "      <th>005</th>\n",
       "      <td>小赵</td>\n",
       "      <td>女</td>\n",
       "      <td>161.7</td>\n",
       "    </tr>\n",
       "  </tbody>\n",
       "</table>\n",
       "</div>"
      ],
      "text/plain": [
       "     姓名 性别     身高\n",
       "001  小陈  男  172.5\n",
       "002  小李  女  168.0\n",
       "003  小王  男  178.2\n",
       "004  小张  男  181.3\n",
       "005  小赵  女  161.7"
      ]
     },
     "execution_count": 103,
     "metadata": {},
     "output_type": "execute_result"
    }
   ],
   "source": [
    "students.head()"
   ]
  },
  {
   "cell_type": "code",
   "execution_count": 109,
   "id": "d23c51c4",
   "metadata": {},
   "outputs": [
    {
     "data": {
      "text/html": [
       "<div>\n",
       "<style scoped>\n",
       "    .dataframe tbody tr th:only-of-type {\n",
       "        vertical-align: middle;\n",
       "    }\n",
       "\n",
       "    .dataframe tbody tr th {\n",
       "        vertical-align: top;\n",
       "    }\n",
       "\n",
       "    .dataframe thead th {\n",
       "        text-align: right;\n",
       "    }\n",
       "</style>\n",
       "<table border=\"1\" class=\"dataframe\">\n",
       "  <thead>\n",
       "    <tr style=\"text-align: right;\">\n",
       "      <th></th>\n",
       "      <th>001</th>\n",
       "      <th>002</th>\n",
       "      <th>003</th>\n",
       "      <th>004</th>\n",
       "      <th>005</th>\n",
       "      <th>006</th>\n",
       "    </tr>\n",
       "  </thead>\n",
       "  <tbody>\n",
       "    <tr>\n",
       "      <th>姓名</th>\n",
       "      <td>小陈</td>\n",
       "      <td>小李</td>\n",
       "      <td>小王</td>\n",
       "      <td>小张</td>\n",
       "      <td>小赵</td>\n",
       "      <td>小周</td>\n",
       "    </tr>\n",
       "    <tr>\n",
       "      <th>考试1</th>\n",
       "      <td>85</td>\n",
       "      <td>91</td>\n",
       "      <td>86</td>\n",
       "      <td>79</td>\n",
       "      <td>96</td>\n",
       "      <td>81</td>\n",
       "    </tr>\n",
       "    <tr>\n",
       "      <th>考试2</th>\n",
       "      <td>95</td>\n",
       "      <td>92</td>\n",
       "      <td>81</td>\n",
       "      <td>89</td>\n",
       "      <td>91</td>\n",
       "      <td>89</td>\n",
       "    </tr>\n",
       "    <tr>\n",
       "      <th>考试3</th>\n",
       "      <td>92</td>\n",
       "      <td>94</td>\n",
       "      <td>89</td>\n",
       "      <td>95</td>\n",
       "      <td>91</td>\n",
       "      <td>92</td>\n",
       "    </tr>\n",
       "  </tbody>\n",
       "</table>\n",
       "</div>"
      ],
      "text/plain": [
       "    001 002 003 004 005 006\n",
       "姓名   小陈  小李  小王  小张  小赵  小周\n",
       "考试1  85  91  86  79  96  81\n",
       "考试2  95  92  81  89  91  89\n",
       "考试3  92  94  89  95  91  92"
      ]
     },
     "execution_count": 109,
     "metadata": {},
     "output_type": "execute_result"
    }
   ],
   "source": [
    "student_data={\n",
    "    \"001\":{\"姓名\":\"小陈\", \"考试1\":85, \"考试2\": 95, \"考试3\": 92},\n",
    "    \"002\":{\"姓名\":\"小李\", \"考试1\":91, \"考试2\": 92, \"考试3\": 94},\n",
    "    \"003\":{\"姓名\":\"小王\", \"考试1\":86, \"考试2\": 81, \"考试3\": 89},\n",
    "    \"004\":{\"姓名\":\"小张\", \"考试1\":79, \"考试2\": 89, \"考试3\": 95},\n",
    "    \"005\":{\"姓名\":\"小赵\", \"考试1\":96, \"考试2\": 91, \"考试3\": 91},\n",
    "    \"006\":{\"姓名\":\"小周\", \"考试1\":81, \"考试2\": 89, \"考试3\": 92}\n",
    "}\n",
    "students=pd.DataFrame(student_data)\n",
    "students"
   ]
  },
  {
   "cell_type": "code",
   "execution_count": 112,
   "id": "f8cba2b0",
   "metadata": {},
   "outputs": [
    {
     "data": {
      "text/html": [
       "<div>\n",
       "<style scoped>\n",
       "    .dataframe tbody tr th:only-of-type {\n",
       "        vertical-align: middle;\n",
       "    }\n",
       "\n",
       "    .dataframe tbody tr th {\n",
       "        vertical-align: top;\n",
       "    }\n",
       "\n",
       "    .dataframe thead th {\n",
       "        text-align: right;\n",
       "    }\n",
       "</style>\n",
       "<table border=\"1\" class=\"dataframe\">\n",
       "  <thead>\n",
       "    <tr style=\"text-align: right;\">\n",
       "      <th></th>\n",
       "      <th>姓名</th>\n",
       "      <th>考试1</th>\n",
       "      <th>考试2</th>\n",
       "      <th>考试3</th>\n",
       "    </tr>\n",
       "  </thead>\n",
       "  <tbody>\n",
       "    <tr>\n",
       "      <th>001</th>\n",
       "      <td>小陈</td>\n",
       "      <td>85</td>\n",
       "      <td>95</td>\n",
       "      <td>92</td>\n",
       "    </tr>\n",
       "    <tr>\n",
       "      <th>002</th>\n",
       "      <td>小李</td>\n",
       "      <td>91</td>\n",
       "      <td>92</td>\n",
       "      <td>94</td>\n",
       "    </tr>\n",
       "    <tr>\n",
       "      <th>003</th>\n",
       "      <td>小王</td>\n",
       "      <td>86</td>\n",
       "      <td>81</td>\n",
       "      <td>89</td>\n",
       "    </tr>\n",
       "    <tr>\n",
       "      <th>004</th>\n",
       "      <td>小张</td>\n",
       "      <td>79</td>\n",
       "      <td>89</td>\n",
       "      <td>95</td>\n",
       "    </tr>\n",
       "    <tr>\n",
       "      <th>005</th>\n",
       "      <td>小赵</td>\n",
       "      <td>96</td>\n",
       "      <td>91</td>\n",
       "      <td>91</td>\n",
       "    </tr>\n",
       "    <tr>\n",
       "      <th>006</th>\n",
       "      <td>小周</td>\n",
       "      <td>81</td>\n",
       "      <td>89</td>\n",
       "      <td>92</td>\n",
       "    </tr>\n",
       "  </tbody>\n",
       "</table>\n",
       "</div>"
      ],
      "text/plain": [
       "     姓名 考试1 考试2 考试3\n",
       "001  小陈  85  95  92\n",
       "002  小李  91  92  94\n",
       "003  小王  86  81  89\n",
       "004  小张  79  89  95\n",
       "005  小赵  96  91  91\n",
       "006  小周  81  89  92"
      ]
     },
     "execution_count": 112,
     "metadata": {},
     "output_type": "execute_result"
    }
   ],
   "source": [
    "students=pd.DataFrame(student_data).T\n",
    "students"
   ]
  },
  {
   "cell_type": "code",
   "execution_count": 114,
   "id": "e2254856",
   "metadata": {},
   "outputs": [
    {
     "data": {
      "text/html": [
       "<div>\n",
       "<style scoped>\n",
       "    .dataframe tbody tr th:only-of-type {\n",
       "        vertical-align: middle;\n",
       "    }\n",
       "\n",
       "    .dataframe tbody tr th {\n",
       "        vertical-align: top;\n",
       "    }\n",
       "\n",
       "    .dataframe thead th {\n",
       "        text-align: right;\n",
       "    }\n",
       "</style>\n",
       "<table border=\"1\" class=\"dataframe\">\n",
       "  <thead>\n",
       "    <tr style=\"text-align: right;\">\n",
       "      <th></th>\n",
       "      <th>姓名</th>\n",
       "      <th>考试1</th>\n",
       "      <th>考试2</th>\n",
       "      <th>考试3</th>\n",
       "      <th>考试4</th>\n",
       "    </tr>\n",
       "  </thead>\n",
       "  <tbody>\n",
       "    <tr>\n",
       "      <th>001</th>\n",
       "      <td>小陈</td>\n",
       "      <td>85</td>\n",
       "      <td>95</td>\n",
       "      <td>92</td>\n",
       "      <td>72</td>\n",
       "    </tr>\n",
       "    <tr>\n",
       "      <th>002</th>\n",
       "      <td>小李</td>\n",
       "      <td>91</td>\n",
       "      <td>92</td>\n",
       "      <td>94</td>\n",
       "      <td>69</td>\n",
       "    </tr>\n",
       "    <tr>\n",
       "      <th>003</th>\n",
       "      <td>小王</td>\n",
       "      <td>86</td>\n",
       "      <td>81</td>\n",
       "      <td>89</td>\n",
       "      <td>79</td>\n",
       "    </tr>\n",
       "    <tr>\n",
       "      <th>004</th>\n",
       "      <td>小张</td>\n",
       "      <td>79</td>\n",
       "      <td>89</td>\n",
       "      <td>95</td>\n",
       "      <td>83</td>\n",
       "    </tr>\n",
       "    <tr>\n",
       "      <th>005</th>\n",
       "      <td>小赵</td>\n",
       "      <td>96</td>\n",
       "      <td>91</td>\n",
       "      <td>91</td>\n",
       "      <td>82</td>\n",
       "    </tr>\n",
       "    <tr>\n",
       "      <th>006</th>\n",
       "      <td>小周</td>\n",
       "      <td>81</td>\n",
       "      <td>89</td>\n",
       "      <td>92</td>\n",
       "      <td>76</td>\n",
       "    </tr>\n",
       "  </tbody>\n",
       "</table>\n",
       "</div>"
      ],
      "text/plain": [
       "     姓名 考试1 考试2 考试3  考试4\n",
       "001  小陈  85  95  92   72\n",
       "002  小李  91  92  94   69\n",
       "003  小王  86  81  89   79\n",
       "004  小张  79  89  95   83\n",
       "005  小赵  96  91  91   82\n",
       "006  小周  81  89  92   76"
      ]
     },
     "execution_count": 114,
     "metadata": {},
     "output_type": "execute_result"
    }
   ],
   "source": [
    "students[\"考试4\"]=[72,69,79,83,82,76]\n",
    "students"
   ]
  },
  {
   "cell_type": "code",
   "execution_count": 116,
   "id": "5d32137a",
   "metadata": {},
   "outputs": [
    {
     "data": {
      "text/html": [
       "<div>\n",
       "<style scoped>\n",
       "    .dataframe tbody tr th:only-of-type {\n",
       "        vertical-align: middle;\n",
       "    }\n",
       "\n",
       "    .dataframe tbody tr th {\n",
       "        vertical-align: top;\n",
       "    }\n",
       "\n",
       "    .dataframe thead th {\n",
       "        text-align: right;\n",
       "    }\n",
       "</style>\n",
       "<table border=\"1\" class=\"dataframe\">\n",
       "  <thead>\n",
       "    <tr style=\"text-align: right;\">\n",
       "      <th></th>\n",
       "      <th>姓名</th>\n",
       "      <th>考试1</th>\n",
       "      <th>考试2</th>\n",
       "      <th>考试3</th>\n",
       "      <th>考试4</th>\n",
       "    </tr>\n",
       "  </thead>\n",
       "  <tbody>\n",
       "    <tr>\n",
       "      <th>001</th>\n",
       "      <td>小陈</td>\n",
       "      <td>85</td>\n",
       "      <td>95</td>\n",
       "      <td>92</td>\n",
       "      <td>72</td>\n",
       "    </tr>\n",
       "    <tr>\n",
       "      <th>002</th>\n",
       "      <td>小李</td>\n",
       "      <td>91</td>\n",
       "      <td>92</td>\n",
       "      <td>94</td>\n",
       "      <td>69</td>\n",
       "    </tr>\n",
       "    <tr>\n",
       "      <th>003</th>\n",
       "      <td>小王</td>\n",
       "      <td>86</td>\n",
       "      <td>81</td>\n",
       "      <td>89</td>\n",
       "      <td>79</td>\n",
       "    </tr>\n",
       "    <tr>\n",
       "      <th>004</th>\n",
       "      <td>小张</td>\n",
       "      <td>79</td>\n",
       "      <td>89</td>\n",
       "      <td>95</td>\n",
       "      <td>83</td>\n",
       "    </tr>\n",
       "    <tr>\n",
       "      <th>005</th>\n",
       "      <td>小赵</td>\n",
       "      <td>96</td>\n",
       "      <td>91</td>\n",
       "      <td>91</td>\n",
       "      <td>82</td>\n",
       "    </tr>\n",
       "    <tr>\n",
       "      <th>006</th>\n",
       "      <td>小周</td>\n",
       "      <td>81</td>\n",
       "      <td>89</td>\n",
       "      <td>92</td>\n",
       "      <td>76</td>\n",
       "    </tr>\n",
       "    <tr>\n",
       "      <th>007</th>\n",
       "      <td>小杨</td>\n",
       "      <td>79</td>\n",
       "      <td>82</td>\n",
       "      <td>81</td>\n",
       "      <td>69</td>\n",
       "    </tr>\n",
       "  </tbody>\n",
       "</table>\n",
       "</div>"
      ],
      "text/plain": [
       "     姓名 考试1 考试2 考试3  考试4\n",
       "001  小陈  85  95  92   72\n",
       "002  小李  91  92  94   69\n",
       "003  小王  86  81  89   79\n",
       "004  小张  79  89  95   83\n",
       "005  小赵  96  91  91   82\n",
       "006  小周  81  89  92   76\n",
       "007  小杨  79  82  81   69"
      ]
     },
     "execution_count": 116,
     "metadata": {},
     "output_type": "execute_result"
    }
   ],
   "source": [
    "students.loc[\"007\"]=[\"小杨\", 79, 82, 81, 69]\n",
    "students"
   ]
  },
  {
   "cell_type": "code",
   "execution_count": 118,
   "id": "747c2daf",
   "metadata": {},
   "outputs": [
    {
     "data": {
      "text/html": [
       "<div>\n",
       "<style scoped>\n",
       "    .dataframe tbody tr th:only-of-type {\n",
       "        vertical-align: middle;\n",
       "    }\n",
       "\n",
       "    .dataframe tbody tr th {\n",
       "        vertical-align: top;\n",
       "    }\n",
       "\n",
       "    .dataframe thead th {\n",
       "        text-align: right;\n",
       "    }\n",
       "</style>\n",
       "<table border=\"1\" class=\"dataframe\">\n",
       "  <thead>\n",
       "    <tr style=\"text-align: right;\">\n",
       "      <th></th>\n",
       "      <th>姓名</th>\n",
       "      <th>考试1</th>\n",
       "      <th>考试2</th>\n",
       "      <th>考试3</th>\n",
       "      <th>考试4</th>\n",
       "    </tr>\n",
       "  </thead>\n",
       "  <tbody>\n",
       "    <tr>\n",
       "      <th>001</th>\n",
       "      <td>小陈</td>\n",
       "      <td>85</td>\n",
       "      <td>95</td>\n",
       "      <td>92</td>\n",
       "      <td>72</td>\n",
       "    </tr>\n",
       "    <tr>\n",
       "      <th>002</th>\n",
       "      <td>小李</td>\n",
       "      <td>91</td>\n",
       "      <td>92</td>\n",
       "      <td>94</td>\n",
       "      <td>69</td>\n",
       "    </tr>\n",
       "    <tr>\n",
       "      <th>003</th>\n",
       "      <td>小王</td>\n",
       "      <td>86</td>\n",
       "      <td>81</td>\n",
       "      <td>89</td>\n",
       "      <td>79</td>\n",
       "    </tr>\n",
       "    <tr>\n",
       "      <th>004</th>\n",
       "      <td>小张</td>\n",
       "      <td>79</td>\n",
       "      <td>89</td>\n",
       "      <td>95</td>\n",
       "      <td>83</td>\n",
       "    </tr>\n",
       "    <tr>\n",
       "      <th>005</th>\n",
       "      <td>小赵</td>\n",
       "      <td>96</td>\n",
       "      <td>91</td>\n",
       "      <td>91</td>\n",
       "      <td>82</td>\n",
       "    </tr>\n",
       "  </tbody>\n",
       "</table>\n",
       "</div>"
      ],
      "text/plain": [
       "     姓名 考试1 考试2 考试3  考试4\n",
       "001  小陈  85  95  92   72\n",
       "002  小李  91  92  94   69\n",
       "003  小王  86  81  89   79\n",
       "004  小张  79  89  95   83\n",
       "005  小赵  96  91  91   82"
      ]
     },
     "execution_count": 118,
     "metadata": {},
     "output_type": "execute_result"
    }
   ],
   "source": [
    "students.drop([\"006\", \"007\"], axis=0)"
   ]
  },
  {
   "cell_type": "code",
   "execution_count": 119,
   "id": "3cf5992c",
   "metadata": {},
   "outputs": [
    {
     "data": {
      "text/html": [
       "<div>\n",
       "<style scoped>\n",
       "    .dataframe tbody tr th:only-of-type {\n",
       "        vertical-align: middle;\n",
       "    }\n",
       "\n",
       "    .dataframe tbody tr th {\n",
       "        vertical-align: top;\n",
       "    }\n",
       "\n",
       "    .dataframe thead th {\n",
       "        text-align: right;\n",
       "    }\n",
       "</style>\n",
       "<table border=\"1\" class=\"dataframe\">\n",
       "  <thead>\n",
       "    <tr style=\"text-align: right;\">\n",
       "      <th></th>\n",
       "      <th>姓名</th>\n",
       "      <th>考试1</th>\n",
       "      <th>考试2</th>\n",
       "      <th>考试3</th>\n",
       "      <th>考试4</th>\n",
       "    </tr>\n",
       "  </thead>\n",
       "  <tbody>\n",
       "    <tr>\n",
       "      <th>001</th>\n",
       "      <td>小陈</td>\n",
       "      <td>85</td>\n",
       "      <td>95</td>\n",
       "      <td>92</td>\n",
       "      <td>72</td>\n",
       "    </tr>\n",
       "    <tr>\n",
       "      <th>002</th>\n",
       "      <td>小李</td>\n",
       "      <td>91</td>\n",
       "      <td>92</td>\n",
       "      <td>94</td>\n",
       "      <td>69</td>\n",
       "    </tr>\n",
       "    <tr>\n",
       "      <th>003</th>\n",
       "      <td>小王</td>\n",
       "      <td>86</td>\n",
       "      <td>81</td>\n",
       "      <td>89</td>\n",
       "      <td>79</td>\n",
       "    </tr>\n",
       "    <tr>\n",
       "      <th>004</th>\n",
       "      <td>小张</td>\n",
       "      <td>79</td>\n",
       "      <td>89</td>\n",
       "      <td>95</td>\n",
       "      <td>83</td>\n",
       "    </tr>\n",
       "    <tr>\n",
       "      <th>005</th>\n",
       "      <td>小赵</td>\n",
       "      <td>96</td>\n",
       "      <td>91</td>\n",
       "      <td>91</td>\n",
       "      <td>82</td>\n",
       "    </tr>\n",
       "    <tr>\n",
       "      <th>006</th>\n",
       "      <td>小周</td>\n",
       "      <td>81</td>\n",
       "      <td>89</td>\n",
       "      <td>92</td>\n",
       "      <td>76</td>\n",
       "    </tr>\n",
       "    <tr>\n",
       "      <th>007</th>\n",
       "      <td>小杨</td>\n",
       "      <td>79</td>\n",
       "      <td>82</td>\n",
       "      <td>81</td>\n",
       "      <td>69</td>\n",
       "    </tr>\n",
       "  </tbody>\n",
       "</table>\n",
       "</div>"
      ],
      "text/plain": [
       "     姓名 考试1 考试2 考试3  考试4\n",
       "001  小陈  85  95  92   72\n",
       "002  小李  91  92  94   69\n",
       "003  小王  86  81  89   79\n",
       "004  小张  79  89  95   83\n",
       "005  小赵  96  91  91   82\n",
       "006  小周  81  89  92   76\n",
       "007  小杨  79  82  81   69"
      ]
     },
     "execution_count": 119,
     "metadata": {},
     "output_type": "execute_result"
    }
   ],
   "source": [
    "students"
   ]
  },
  {
   "cell_type": "code",
   "execution_count": 120,
   "id": "2adb8bc4",
   "metadata": {},
   "outputs": [
    {
     "data": {
      "text/html": [
       "<div>\n",
       "<style scoped>\n",
       "    .dataframe tbody tr th:only-of-type {\n",
       "        vertical-align: middle;\n",
       "    }\n",
       "\n",
       "    .dataframe tbody tr th {\n",
       "        vertical-align: top;\n",
       "    }\n",
       "\n",
       "    .dataframe thead th {\n",
       "        text-align: right;\n",
       "    }\n",
       "</style>\n",
       "<table border=\"1\" class=\"dataframe\">\n",
       "  <thead>\n",
       "    <tr style=\"text-align: right;\">\n",
       "      <th></th>\n",
       "      <th>姓名</th>\n",
       "      <th>考试1</th>\n",
       "      <th>考试3</th>\n",
       "    </tr>\n",
       "  </thead>\n",
       "  <tbody>\n",
       "    <tr>\n",
       "      <th>001</th>\n",
       "      <td>小陈</td>\n",
       "      <td>85</td>\n",
       "      <td>92</td>\n",
       "    </tr>\n",
       "    <tr>\n",
       "      <th>002</th>\n",
       "      <td>小李</td>\n",
       "      <td>91</td>\n",
       "      <td>94</td>\n",
       "    </tr>\n",
       "    <tr>\n",
       "      <th>003</th>\n",
       "      <td>小王</td>\n",
       "      <td>86</td>\n",
       "      <td>89</td>\n",
       "    </tr>\n",
       "    <tr>\n",
       "      <th>004</th>\n",
       "      <td>小张</td>\n",
       "      <td>79</td>\n",
       "      <td>95</td>\n",
       "    </tr>\n",
       "    <tr>\n",
       "      <th>005</th>\n",
       "      <td>小赵</td>\n",
       "      <td>96</td>\n",
       "      <td>91</td>\n",
       "    </tr>\n",
       "    <tr>\n",
       "      <th>006</th>\n",
       "      <td>小周</td>\n",
       "      <td>81</td>\n",
       "      <td>92</td>\n",
       "    </tr>\n",
       "    <tr>\n",
       "      <th>007</th>\n",
       "      <td>小杨</td>\n",
       "      <td>79</td>\n",
       "      <td>81</td>\n",
       "    </tr>\n",
       "  </tbody>\n",
       "</table>\n",
       "</div>"
      ],
      "text/plain": [
       "     姓名 考试1 考试3\n",
       "001  小陈  85  92\n",
       "002  小李  91  94\n",
       "003  小王  86  89\n",
       "004  小张  79  95\n",
       "005  小赵  96  91\n",
       "006  小周  81  92\n",
       "007  小杨  79  81"
      ]
     },
     "execution_count": 120,
     "metadata": {},
     "output_type": "execute_result"
    }
   ],
   "source": [
    "students.drop([\"考试2\",\"考试4\"], axis=1)"
   ]
  },
  {
   "cell_type": "code",
   "execution_count": 121,
   "id": "2e152dd9",
   "metadata": {},
   "outputs": [
    {
     "data": {
      "text/html": [
       "<div>\n",
       "<style scoped>\n",
       "    .dataframe tbody tr th:only-of-type {\n",
       "        vertical-align: middle;\n",
       "    }\n",
       "\n",
       "    .dataframe tbody tr th {\n",
       "        vertical-align: top;\n",
       "    }\n",
       "\n",
       "    .dataframe thead th {\n",
       "        text-align: right;\n",
       "    }\n",
       "</style>\n",
       "<table border=\"1\" class=\"dataframe\">\n",
       "  <thead>\n",
       "    <tr style=\"text-align: right;\">\n",
       "      <th></th>\n",
       "      <th>姓名</th>\n",
       "      <th>考试1</th>\n",
       "      <th>考试2</th>\n",
       "      <th>考试3</th>\n",
       "      <th>考试4</th>\n",
       "    </tr>\n",
       "  </thead>\n",
       "  <tbody>\n",
       "    <tr>\n",
       "      <th>001</th>\n",
       "      <td>小陈</td>\n",
       "      <td>85</td>\n",
       "      <td>95</td>\n",
       "      <td>92</td>\n",
       "      <td>72</td>\n",
       "    </tr>\n",
       "    <tr>\n",
       "      <th>002</th>\n",
       "      <td>小李</td>\n",
       "      <td>91</td>\n",
       "      <td>92</td>\n",
       "      <td>94</td>\n",
       "      <td>69</td>\n",
       "    </tr>\n",
       "    <tr>\n",
       "      <th>003</th>\n",
       "      <td>小王</td>\n",
       "      <td>86</td>\n",
       "      <td>81</td>\n",
       "      <td>89</td>\n",
       "      <td>79</td>\n",
       "    </tr>\n",
       "    <tr>\n",
       "      <th>004</th>\n",
       "      <td>小张</td>\n",
       "      <td>79</td>\n",
       "      <td>89</td>\n",
       "      <td>95</td>\n",
       "      <td>83</td>\n",
       "    </tr>\n",
       "    <tr>\n",
       "      <th>005</th>\n",
       "      <td>小赵</td>\n",
       "      <td>96</td>\n",
       "      <td>91</td>\n",
       "      <td>91</td>\n",
       "      <td>82</td>\n",
       "    </tr>\n",
       "    <tr>\n",
       "      <th>006</th>\n",
       "      <td>小周</td>\n",
       "      <td>81</td>\n",
       "      <td>89</td>\n",
       "      <td>92</td>\n",
       "      <td>76</td>\n",
       "    </tr>\n",
       "    <tr>\n",
       "      <th>007</th>\n",
       "      <td>小杨</td>\n",
       "      <td>79</td>\n",
       "      <td>82</td>\n",
       "      <td>81</td>\n",
       "      <td>69</td>\n",
       "    </tr>\n",
       "  </tbody>\n",
       "</table>\n",
       "</div>"
      ],
      "text/plain": [
       "     姓名 考试1 考试2 考试3  考试4\n",
       "001  小陈  85  95  92   72\n",
       "002  小李  91  92  94   69\n",
       "003  小王  86  81  89   79\n",
       "004  小张  79  89  95   83\n",
       "005  小赵  96  91  91   82\n",
       "006  小周  81  89  92   76\n",
       "007  小杨  79  82  81   69"
      ]
     },
     "execution_count": 121,
     "metadata": {},
     "output_type": "execute_result"
    }
   ],
   "source": [
    "students"
   ]
  },
  {
   "cell_type": "code",
   "execution_count": 123,
   "id": "132e7a6a",
   "metadata": {},
   "outputs": [
    {
     "data": {
      "text/plain": [
       "考试1    2\n",
       "考试2    3\n",
       "考试3    2\n",
       "考试4    5\n",
       "dtype: int64"
      ]
     },
     "execution_count": 123,
     "metadata": {},
     "output_type": "execute_result"
    }
   ],
   "source": [
    "bonus=pd.Series([2, 3, 2, 5], index=[\"考试1\", \"考试2\", \"考试3\", \"考试4\"])\n",
    "bonus"
   ]
  },
  {
   "cell_type": "code",
   "execution_count": 124,
   "id": "466577b6",
   "metadata": {},
   "outputs": [
    {
     "data": {
      "text/plain": [
       "考试1    2\n",
       "考试2    3\n",
       "考试3    2\n",
       "考试4    5\n",
       "dtype: int64"
      ]
     },
     "execution_count": 124,
     "metadata": {},
     "output_type": "execute_result"
    }
   ],
   "source": [
    "bonus=pd.Series({\"考试1\":2, \"考试2\":3,\"考试3\": 2, \"考试4\": 5})\n",
    "bonus"
   ]
  },
  {
   "cell_type": "code",
   "execution_count": 132,
   "id": "52df6750",
   "metadata": {},
   "outputs": [
    {
     "data": {
      "text/html": [
       "<div>\n",
       "<style scoped>\n",
       "    .dataframe tbody tr th:only-of-type {\n",
       "        vertical-align: middle;\n",
       "    }\n",
       "\n",
       "    .dataframe tbody tr th {\n",
       "        vertical-align: top;\n",
       "    }\n",
       "\n",
       "    .dataframe thead th {\n",
       "        text-align: right;\n",
       "    }\n",
       "</style>\n",
       "<table border=\"1\" class=\"dataframe\">\n",
       "  <thead>\n",
       "    <tr style=\"text-align: right;\">\n",
       "      <th></th>\n",
       "      <th>考试1</th>\n",
       "      <th>考试2</th>\n",
       "      <th>考试3</th>\n",
       "      <th>考试4</th>\n",
       "    </tr>\n",
       "  </thead>\n",
       "  <tbody>\n",
       "    <tr>\n",
       "      <th>001</th>\n",
       "      <td>87</td>\n",
       "      <td>98</td>\n",
       "      <td>94</td>\n",
       "      <td>77</td>\n",
       "    </tr>\n",
       "    <tr>\n",
       "      <th>002</th>\n",
       "      <td>93</td>\n",
       "      <td>95</td>\n",
       "      <td>96</td>\n",
       "      <td>74</td>\n",
       "    </tr>\n",
       "    <tr>\n",
       "      <th>003</th>\n",
       "      <td>88</td>\n",
       "      <td>84</td>\n",
       "      <td>91</td>\n",
       "      <td>84</td>\n",
       "    </tr>\n",
       "    <tr>\n",
       "      <th>004</th>\n",
       "      <td>81</td>\n",
       "      <td>92</td>\n",
       "      <td>97</td>\n",
       "      <td>88</td>\n",
       "    </tr>\n",
       "    <tr>\n",
       "      <th>005</th>\n",
       "      <td>98</td>\n",
       "      <td>94</td>\n",
       "      <td>93</td>\n",
       "      <td>87</td>\n",
       "    </tr>\n",
       "    <tr>\n",
       "      <th>006</th>\n",
       "      <td>83</td>\n",
       "      <td>92</td>\n",
       "      <td>94</td>\n",
       "      <td>81</td>\n",
       "    </tr>\n",
       "    <tr>\n",
       "      <th>007</th>\n",
       "      <td>81</td>\n",
       "      <td>85</td>\n",
       "      <td>83</td>\n",
       "      <td>74</td>\n",
       "    </tr>\n",
       "  </tbody>\n",
       "</table>\n",
       "</div>"
      ],
      "text/plain": [
       "    考试1 考试2 考试3  考试4\n",
       "001  87  98  94   77\n",
       "002  93  95  96   74\n",
       "003  88  84  91   84\n",
       "004  81  92  97   88\n",
       "005  98  94  93   87\n",
       "006  83  92  94   81\n",
       "007  81  85  83   74"
      ]
     },
     "execution_count": 132,
     "metadata": {},
     "output_type": "execute_result"
    }
   ],
   "source": [
    "bonus+students[[\"考试1\", \"考试2\",\"考试3\", \"考试4\"]]"
   ]
  },
  {
   "cell_type": "code",
   "execution_count": 134,
   "id": "3addd588",
   "metadata": {},
   "outputs": [
    {
     "data": {
      "text/html": [
       "<div>\n",
       "<style scoped>\n",
       "    .dataframe tbody tr th:only-of-type {\n",
       "        vertical-align: middle;\n",
       "    }\n",
       "\n",
       "    .dataframe tbody tr th {\n",
       "        vertical-align: top;\n",
       "    }\n",
       "\n",
       "    .dataframe thead th {\n",
       "        text-align: right;\n",
       "    }\n",
       "</style>\n",
       "<table border=\"1\" class=\"dataframe\">\n",
       "  <thead>\n",
       "    <tr style=\"text-align: right;\">\n",
       "      <th></th>\n",
       "      <th>姓名</th>\n",
       "      <th>考试1</th>\n",
       "      <th>考试2</th>\n",
       "      <th>考试3</th>\n",
       "      <th>考试4</th>\n",
       "    </tr>\n",
       "  </thead>\n",
       "  <tbody>\n",
       "    <tr>\n",
       "      <th>001</th>\n",
       "      <td>小陈</td>\n",
       "      <td>85</td>\n",
       "      <td>95</td>\n",
       "      <td>92</td>\n",
       "      <td>72</td>\n",
       "    </tr>\n",
       "    <tr>\n",
       "      <th>002</th>\n",
       "      <td>小李</td>\n",
       "      <td>91</td>\n",
       "      <td>92</td>\n",
       "      <td>94</td>\n",
       "      <td>69</td>\n",
       "    </tr>\n",
       "    <tr>\n",
       "      <th>003</th>\n",
       "      <td>小王</td>\n",
       "      <td>86</td>\n",
       "      <td>81</td>\n",
       "      <td>89</td>\n",
       "      <td>79</td>\n",
       "    </tr>\n",
       "    <tr>\n",
       "      <th>004</th>\n",
       "      <td>小张</td>\n",
       "      <td>79</td>\n",
       "      <td>89</td>\n",
       "      <td>95</td>\n",
       "      <td>83</td>\n",
       "    </tr>\n",
       "    <tr>\n",
       "      <th>005</th>\n",
       "      <td>小赵</td>\n",
       "      <td>96</td>\n",
       "      <td>91</td>\n",
       "      <td>91</td>\n",
       "      <td>82</td>\n",
       "    </tr>\n",
       "    <tr>\n",
       "      <th>006</th>\n",
       "      <td>小周</td>\n",
       "      <td>81</td>\n",
       "      <td>89</td>\n",
       "      <td>92</td>\n",
       "      <td>76</td>\n",
       "    </tr>\n",
       "    <tr>\n",
       "      <th>007</th>\n",
       "      <td>小杨</td>\n",
       "      <td>79</td>\n",
       "      <td>82</td>\n",
       "      <td>81</td>\n",
       "      <td>69</td>\n",
       "    </tr>\n",
       "  </tbody>\n",
       "</table>\n",
       "</div>"
      ],
      "text/plain": [
       "     姓名 考试1 考试2 考试3  考试4\n",
       "001  小陈  85  95  92   72\n",
       "002  小李  91  92  94   69\n",
       "003  小王  86  81  89   79\n",
       "004  小张  79  89  95   83\n",
       "005  小赵  96  91  91   82\n",
       "006  小周  81  89  92   76\n",
       "007  小杨  79  82  81   69"
      ]
     },
     "execution_count": 134,
     "metadata": {},
     "output_type": "execute_result"
    }
   ],
   "source": [
    "students"
   ]
  },
  {
   "cell_type": "code",
   "execution_count": 135,
   "id": "8612ba47",
   "metadata": {},
   "outputs": [],
   "source": [
    "students[\"考试4\"]=students[\"考试4\"]+10"
   ]
  },
  {
   "cell_type": "code",
   "execution_count": 136,
   "id": "aaab081f",
   "metadata": {},
   "outputs": [
    {
     "data": {
      "text/html": [
       "<div>\n",
       "<style scoped>\n",
       "    .dataframe tbody tr th:only-of-type {\n",
       "        vertical-align: middle;\n",
       "    }\n",
       "\n",
       "    .dataframe tbody tr th {\n",
       "        vertical-align: top;\n",
       "    }\n",
       "\n",
       "    .dataframe thead th {\n",
       "        text-align: right;\n",
       "    }\n",
       "</style>\n",
       "<table border=\"1\" class=\"dataframe\">\n",
       "  <thead>\n",
       "    <tr style=\"text-align: right;\">\n",
       "      <th></th>\n",
       "      <th>姓名</th>\n",
       "      <th>考试1</th>\n",
       "      <th>考试2</th>\n",
       "      <th>考试3</th>\n",
       "      <th>考试4</th>\n",
       "    </tr>\n",
       "  </thead>\n",
       "  <tbody>\n",
       "    <tr>\n",
       "      <th>001</th>\n",
       "      <td>小陈</td>\n",
       "      <td>85</td>\n",
       "      <td>95</td>\n",
       "      <td>92</td>\n",
       "      <td>82</td>\n",
       "    </tr>\n",
       "    <tr>\n",
       "      <th>002</th>\n",
       "      <td>小李</td>\n",
       "      <td>91</td>\n",
       "      <td>92</td>\n",
       "      <td>94</td>\n",
       "      <td>79</td>\n",
       "    </tr>\n",
       "    <tr>\n",
       "      <th>003</th>\n",
       "      <td>小王</td>\n",
       "      <td>86</td>\n",
       "      <td>81</td>\n",
       "      <td>89</td>\n",
       "      <td>89</td>\n",
       "    </tr>\n",
       "    <tr>\n",
       "      <th>004</th>\n",
       "      <td>小张</td>\n",
       "      <td>79</td>\n",
       "      <td>89</td>\n",
       "      <td>95</td>\n",
       "      <td>93</td>\n",
       "    </tr>\n",
       "    <tr>\n",
       "      <th>005</th>\n",
       "      <td>小赵</td>\n",
       "      <td>96</td>\n",
       "      <td>91</td>\n",
       "      <td>91</td>\n",
       "      <td>92</td>\n",
       "    </tr>\n",
       "    <tr>\n",
       "      <th>006</th>\n",
       "      <td>小周</td>\n",
       "      <td>81</td>\n",
       "      <td>89</td>\n",
       "      <td>92</td>\n",
       "      <td>86</td>\n",
       "    </tr>\n",
       "    <tr>\n",
       "      <th>007</th>\n",
       "      <td>小杨</td>\n",
       "      <td>79</td>\n",
       "      <td>82</td>\n",
       "      <td>81</td>\n",
       "      <td>79</td>\n",
       "    </tr>\n",
       "  </tbody>\n",
       "</table>\n",
       "</div>"
      ],
      "text/plain": [
       "     姓名 考试1 考试2 考试3  考试4\n",
       "001  小陈  85  95  92   82\n",
       "002  小李  91  92  94   79\n",
       "003  小王  86  81  89   89\n",
       "004  小张  79  89  95   93\n",
       "005  小赵  96  91  91   92\n",
       "006  小周  81  89  92   86\n",
       "007  小杨  79  82  81   79"
      ]
     },
     "execution_count": 136,
     "metadata": {},
     "output_type": "execute_result"
    }
   ],
   "source": [
    "students"
   ]
  },
  {
   "cell_type": "markdown",
   "id": "564f2741",
   "metadata": {},
   "source": [
    "DataFrame的apply和applymap方法，都是接受函数，区别在于\n",
    "传给apply的函数会被运用在每列或每行上\n",
    "传给applymap的函数会被运用在每个元素上\n",
    "都是返回新的DataFrame原始的DataFrame没有被改变\n"
   ]
  },
  {
   "cell_type": "code",
   "execution_count": 137,
   "id": "9ea35b82",
   "metadata": {},
   "outputs": [
    {
     "data": {
      "text/html": [
       "<div>\n",
       "<style scoped>\n",
       "    .dataframe tbody tr th:only-of-type {\n",
       "        vertical-align: middle;\n",
       "    }\n",
       "\n",
       "    .dataframe tbody tr th {\n",
       "        vertical-align: top;\n",
       "    }\n",
       "\n",
       "    .dataframe thead th {\n",
       "        text-align: right;\n",
       "    }\n",
       "</style>\n",
       "<table border=\"1\" class=\"dataframe\">\n",
       "  <thead>\n",
       "    <tr style=\"text-align: right;\">\n",
       "      <th></th>\n",
       "      <th>姓名</th>\n",
       "      <th>考试1</th>\n",
       "      <th>考试2</th>\n",
       "      <th>考试3</th>\n",
       "    </tr>\n",
       "  </thead>\n",
       "  <tbody>\n",
       "    <tr>\n",
       "      <th>001</th>\n",
       "      <td>小陈</td>\n",
       "      <td>85</td>\n",
       "      <td>95</td>\n",
       "      <td>92</td>\n",
       "    </tr>\n",
       "    <tr>\n",
       "      <th>002</th>\n",
       "      <td>小李</td>\n",
       "      <td>91</td>\n",
       "      <td>92</td>\n",
       "      <td>94</td>\n",
       "    </tr>\n",
       "    <tr>\n",
       "      <th>003</th>\n",
       "      <td>小王</td>\n",
       "      <td>86</td>\n",
       "      <td>81</td>\n",
       "      <td>89</td>\n",
       "    </tr>\n",
       "    <tr>\n",
       "      <th>004</th>\n",
       "      <td>小张</td>\n",
       "      <td>79</td>\n",
       "      <td>89</td>\n",
       "      <td>95</td>\n",
       "    </tr>\n",
       "    <tr>\n",
       "      <th>005</th>\n",
       "      <td>小赵</td>\n",
       "      <td>96</td>\n",
       "      <td>91</td>\n",
       "      <td>91</td>\n",
       "    </tr>\n",
       "    <tr>\n",
       "      <th>006</th>\n",
       "      <td>小周</td>\n",
       "      <td>81</td>\n",
       "      <td>89</td>\n",
       "      <td>92</td>\n",
       "    </tr>\n",
       "  </tbody>\n",
       "</table>\n",
       "</div>"
      ],
      "text/plain": [
       "     姓名 考试1 考试2 考试3\n",
       "001  小陈  85  95  92\n",
       "002  小李  91  92  94\n",
       "003  小王  86  81  89\n",
       "004  小张  79  89  95\n",
       "005  小赵  96  91  91\n",
       "006  小周  81  89  92"
      ]
     },
     "execution_count": 137,
     "metadata": {},
     "output_type": "execute_result"
    }
   ],
   "source": [
    "student_data={\n",
    "    \"001\":{\"姓名\":\"小陈\", \"考试1\":85, \"考试2\": 95, \"考试3\": 92},\n",
    "    \"002\":{\"姓名\":\"小李\", \"考试1\":91, \"考试2\": 92, \"考试3\": 94},\n",
    "    \"003\":{\"姓名\":\"小王\", \"考试1\":86, \"考试2\": 81, \"考试3\": 89},\n",
    "    \"004\":{\"姓名\":\"小张\", \"考试1\":79, \"考试2\": 89, \"考试3\": 95},\n",
    "    \"005\":{\"姓名\":\"小赵\", \"考试1\":96, \"考试2\": 91, \"考试3\": 91},\n",
    "    \"006\":{\"姓名\":\"小周\", \"考试1\":81, \"考试2\": 89, \"考试3\": 92}\n",
    "}\n",
    "students=pd.DataFrame(student_data).T\n",
    "students\n"
   ]
  },
  {
   "cell_type": "code",
   "execution_count": 152,
   "id": "a8432a64",
   "metadata": {},
   "outputs": [
    {
     "name": "stdout",
     "output_type": "stream",
     "text": [
      "001    90.666667\n",
      "002    92.333333\n",
      "003    85.333333\n",
      "004    87.666667\n",
      "005    92.666667\n",
      "006    87.333333\n",
      "dtype: object\n"
     ]
    },
    {
     "data": {
      "text/html": [
       "<div>\n",
       "<style scoped>\n",
       "    .dataframe tbody tr th:only-of-type {\n",
       "        vertical-align: middle;\n",
       "    }\n",
       "\n",
       "    .dataframe tbody tr th {\n",
       "        vertical-align: top;\n",
       "    }\n",
       "\n",
       "    .dataframe thead th {\n",
       "        text-align: right;\n",
       "    }\n",
       "</style>\n",
       "<table border=\"1\" class=\"dataframe\">\n",
       "  <thead>\n",
       "    <tr style=\"text-align: right;\">\n",
       "      <th></th>\n",
       "      <th>姓名</th>\n",
       "      <th>考试1</th>\n",
       "      <th>考试2</th>\n",
       "      <th>考试3</th>\n",
       "      <th>平均分</th>\n",
       "    </tr>\n",
       "  </thead>\n",
       "  <tbody>\n",
       "    <tr>\n",
       "      <th>001</th>\n",
       "      <td>小陈</td>\n",
       "      <td>85</td>\n",
       "      <td>95</td>\n",
       "      <td>92</td>\n",
       "      <td>90.666667</td>\n",
       "    </tr>\n",
       "    <tr>\n",
       "      <th>002</th>\n",
       "      <td>小李</td>\n",
       "      <td>91</td>\n",
       "      <td>92</td>\n",
       "      <td>94</td>\n",
       "      <td>92.333333</td>\n",
       "    </tr>\n",
       "    <tr>\n",
       "      <th>003</th>\n",
       "      <td>小王</td>\n",
       "      <td>86</td>\n",
       "      <td>81</td>\n",
       "      <td>89</td>\n",
       "      <td>85.333333</td>\n",
       "    </tr>\n",
       "    <tr>\n",
       "      <th>004</th>\n",
       "      <td>小张</td>\n",
       "      <td>79</td>\n",
       "      <td>89</td>\n",
       "      <td>95</td>\n",
       "      <td>87.666667</td>\n",
       "    </tr>\n",
       "    <tr>\n",
       "      <th>005</th>\n",
       "      <td>小赵</td>\n",
       "      <td>96</td>\n",
       "      <td>91</td>\n",
       "      <td>91</td>\n",
       "      <td>92.666667</td>\n",
       "    </tr>\n",
       "    <tr>\n",
       "      <th>006</th>\n",
       "      <td>小周</td>\n",
       "      <td>81</td>\n",
       "      <td>89</td>\n",
       "      <td>92</td>\n",
       "      <td>87.333333</td>\n",
       "    </tr>\n",
       "  </tbody>\n",
       "</table>\n",
       "</div>"
      ],
      "text/plain": [
       "     姓名 考试1 考试2 考试3        平均分\n",
       "001  小陈  85  95  92  90.666667\n",
       "002  小李  91  92  94  92.333333\n",
       "003  小王  86  81  89  85.333333\n",
       "004  小张  79  89  95  87.666667\n",
       "005  小赵  96  91  91  92.666667\n",
       "006  小周  81  89  92  87.333333"
      ]
     },
     "execution_count": 152,
     "metadata": {},
     "output_type": "execute_result"
    }
   ],
   "source": [
    "student_grades=students[[\"考试1\",\"考试2\",\"考试3\"]].mean(axis=1)\n",
    "print(student_grades)\n",
    "students[\"平均分\"]=student_grades\n",
    "students"
   ]
  },
  {
   "cell_type": "code",
   "execution_count": 157,
   "id": "107b3edc",
   "metadata": {},
   "outputs": [
    {
     "name": "stdout",
     "output_type": "stream",
     "text": [
      "001    90.666667\n",
      "002    92.333333\n",
      "003    85.333333\n",
      "004    87.666667\n",
      "005    92.666667\n",
      "006    87.333333\n",
      "dtype: object\n",
      "001    小陈\n",
      "002    小李\n",
      "003    小王\n",
      "004    小张\n",
      "005    小赵\n",
      "006    小周\n",
      "Name: 姓名, dtype: object\n"
     ]
    },
    {
     "data": {
      "text/html": [
       "<div>\n",
       "<style scoped>\n",
       "    .dataframe tbody tr th:only-of-type {\n",
       "        vertical-align: middle;\n",
       "    }\n",
       "\n",
       "    .dataframe tbody tr th {\n",
       "        vertical-align: top;\n",
       "    }\n",
       "\n",
       "    .dataframe thead th {\n",
       "        text-align: right;\n",
       "    }\n",
       "</style>\n",
       "<table border=\"1\" class=\"dataframe\">\n",
       "  <thead>\n",
       "    <tr style=\"text-align: right;\">\n",
       "      <th></th>\n",
       "      <th>姓名</th>\n",
       "      <th>平均分</th>\n",
       "    </tr>\n",
       "  </thead>\n",
       "  <tbody>\n",
       "    <tr>\n",
       "      <th>001</th>\n",
       "      <td>小陈</td>\n",
       "      <td>90.666667</td>\n",
       "    </tr>\n",
       "    <tr>\n",
       "      <th>002</th>\n",
       "      <td>小李</td>\n",
       "      <td>92.333333</td>\n",
       "    </tr>\n",
       "    <tr>\n",
       "      <th>003</th>\n",
       "      <td>小王</td>\n",
       "      <td>85.333333</td>\n",
       "    </tr>\n",
       "    <tr>\n",
       "      <th>004</th>\n",
       "      <td>小张</td>\n",
       "      <td>87.666667</td>\n",
       "    </tr>\n",
       "    <tr>\n",
       "      <th>005</th>\n",
       "      <td>小赵</td>\n",
       "      <td>92.666667</td>\n",
       "    </tr>\n",
       "    <tr>\n",
       "      <th>006</th>\n",
       "      <td>小周</td>\n",
       "      <td>87.333333</td>\n",
       "    </tr>\n",
       "  </tbody>\n",
       "</table>\n",
       "</div>"
      ],
      "text/plain": [
       "     姓名        平均分\n",
       "001  小陈  90.666667\n",
       "002  小李  92.333333\n",
       "003  小王  85.333333\n",
       "004  小张  87.666667\n",
       "005  小赵  92.666667\n",
       "006  小周  87.333333"
      ]
     },
     "execution_count": 157,
     "metadata": {},
     "output_type": "execute_result"
    }
   ],
   "source": [
    "average=students.loc[:,\"考试1\":\"考试3\"].mean(axis=1)\n",
    "print(average)\n",
    "name=students[\"姓名\"]\n",
    "print(name)\n",
    "student_average=pd.DataFrame({\"姓名\":name, \"平均分\": average})\n",
    "#根据字典去创建是允许我们去指定列名的。\n",
    "student_average"
   ]
  },
  {
   "cell_type": "markdown",
   "id": "8df68811",
   "metadata": {},
   "source": [
    "输出每次考试第二高的分数组成的series，可以尝试结合匿名函数."
   ]
  },
  {
   "cell_type": "code",
   "execution_count": 167,
   "id": "d91ac258",
   "metadata": {},
   "outputs": [
    {
     "data": {
      "text/plain": [
       "考试1    91\n",
       "考试2    92\n",
       "考试3    94\n",
       "dtype: int64"
      ]
     },
     "execution_count": 167,
     "metadata": {},
     "output_type": "execute_result"
    }
   ],
   "source": [
    "students.loc[:, \"考试1\":\"考试3\"].apply(lambda x: np.sort(x)[-2], axis=0)"
   ]
  },
  {
   "cell_type": "code",
   "execution_count": 177,
   "id": "0f9dbb6a",
   "metadata": {},
   "outputs": [
    {
     "data": {
      "text/html": [
       "<div>\n",
       "<style scoped>\n",
       "    .dataframe tbody tr th:only-of-type {\n",
       "        vertical-align: middle;\n",
       "    }\n",
       "\n",
       "    .dataframe tbody tr th {\n",
       "        vertical-align: top;\n",
       "    }\n",
       "\n",
       "    .dataframe thead th {\n",
       "        text-align: right;\n",
       "    }\n",
       "</style>\n",
       "<table border=\"1\" class=\"dataframe\">\n",
       "  <thead>\n",
       "    <tr style=\"text-align: right;\">\n",
       "      <th></th>\n",
       "      <th>姓名</th>\n",
       "      <th>等级</th>\n",
       "    </tr>\n",
       "  </thead>\n",
       "  <tbody>\n",
       "    <tr>\n",
       "      <th>001</th>\n",
       "      <td>小陈</td>\n",
       "      <td>A</td>\n",
       "    </tr>\n",
       "    <tr>\n",
       "      <th>002</th>\n",
       "      <td>小李</td>\n",
       "      <td>A</td>\n",
       "    </tr>\n",
       "    <tr>\n",
       "      <th>003</th>\n",
       "      <td>小王</td>\n",
       "      <td>B+</td>\n",
       "    </tr>\n",
       "    <tr>\n",
       "      <th>004</th>\n",
       "      <td>小张</td>\n",
       "      <td>B+</td>\n",
       "    </tr>\n",
       "    <tr>\n",
       "      <th>005</th>\n",
       "      <td>小赵</td>\n",
       "      <td>A</td>\n",
       "    </tr>\n",
       "    <tr>\n",
       "      <th>006</th>\n",
       "      <td>小周</td>\n",
       "      <td>B+</td>\n",
       "    </tr>\n",
       "  </tbody>\n",
       "</table>\n",
       "</div>"
      ],
      "text/plain": [
       "     姓名  等级\n",
       "001  小陈   A\n",
       "002  小李   A\n",
       "003  小王  B+\n",
       "004  小张  B+\n",
       "005  小赵   A\n",
       "006  小周  B+"
      ]
     },
     "execution_count": 177,
     "metadata": {},
     "output_type": "execute_result"
    }
   ],
   "source": [
    "student_average\n",
    "def score_grade(average_score):\n",
    "    if average_score>=95:\n",
    "        return \"A+\"\n",
    "    elif 90<= average_score <95:\n",
    "        return \"A\"\n",
    "    elif 85 <= average_score <90:\n",
    "        return \"B+\"\n",
    "    elif 80<= average_score <85:\n",
    "        return \"B\"\n",
    "    elif 75<= average_score <80:\n",
    "        return \"C+\"\n",
    "    else:\n",
    "        return \"C\"\n",
    "score_grade=student_average.loc[:,\"平均分\"].apply(score_grade)\n",
    "name=students[\"姓名\"]\n",
    "score_dengji=pd.DataFrame({\"姓名\": name, \"等级\": score_grade})\n",
    "score_dengji"
   ]
  },
  {
   "cell_type": "code",
   "execution_count": 189,
   "id": "41c4a04a",
   "metadata": {},
   "outputs": [
    {
     "data": {
      "text/html": [
       "<div>\n",
       "<style scoped>\n",
       "    .dataframe tbody tr th:only-of-type {\n",
       "        vertical-align: middle;\n",
       "    }\n",
       "\n",
       "    .dataframe tbody tr th {\n",
       "        vertical-align: top;\n",
       "    }\n",
       "\n",
       "    .dataframe thead th {\n",
       "        text-align: right;\n",
       "    }\n",
       "</style>\n",
       "<table border=\"1\" class=\"dataframe\">\n",
       "  <thead>\n",
       "    <tr style=\"text-align: right;\">\n",
       "      <th></th>\n",
       "      <th>考试1</th>\n",
       "      <th>考试2</th>\n",
       "      <th>考试3</th>\n",
       "      <th>姓名</th>\n",
       "    </tr>\n",
       "  </thead>\n",
       "  <tbody>\n",
       "    <tr>\n",
       "      <th>001</th>\n",
       "      <td>B+</td>\n",
       "      <td>A+</td>\n",
       "      <td>A</td>\n",
       "      <td>小陈</td>\n",
       "    </tr>\n",
       "    <tr>\n",
       "      <th>002</th>\n",
       "      <td>A</td>\n",
       "      <td>A</td>\n",
       "      <td>A</td>\n",
       "      <td>小李</td>\n",
       "    </tr>\n",
       "    <tr>\n",
       "      <th>003</th>\n",
       "      <td>B+</td>\n",
       "      <td>B</td>\n",
       "      <td>B+</td>\n",
       "      <td>小王</td>\n",
       "    </tr>\n",
       "    <tr>\n",
       "      <th>004</th>\n",
       "      <td>C+</td>\n",
       "      <td>B+</td>\n",
       "      <td>A+</td>\n",
       "      <td>小张</td>\n",
       "    </tr>\n",
       "    <tr>\n",
       "      <th>005</th>\n",
       "      <td>A+</td>\n",
       "      <td>A</td>\n",
       "      <td>A</td>\n",
       "      <td>小赵</td>\n",
       "    </tr>\n",
       "    <tr>\n",
       "      <th>006</th>\n",
       "      <td>B</td>\n",
       "      <td>B+</td>\n",
       "      <td>A</td>\n",
       "      <td>小周</td>\n",
       "    </tr>\n",
       "  </tbody>\n",
       "</table>\n",
       "</div>"
      ],
      "text/plain": [
       "    考试1 考试2 考试3  姓名\n",
       "001  B+  A+   A  小陈\n",
       "002   A   A   A  小李\n",
       "003  B+   B  B+  小王\n",
       "004  C+  B+  A+  小张\n",
       "005  A+   A   A  小赵\n",
       "006   B  B+   A  小周"
      ]
     },
     "execution_count": 189,
     "metadata": {},
     "output_type": "execute_result"
    }
   ],
   "source": [
    "def get_grade(score):\n",
    "    if score>=95:\n",
    "        return \"A+\"\n",
    "    elif 90<= score <95:\n",
    "        return \"A\"\n",
    "    elif 85 <= score <90:\n",
    "        return \"B+\"\n",
    "    elif 80<= score <85:\n",
    "        return \"B\"\n",
    "    elif 75<= score <80:\n",
    "        return \"C+\"\n",
    "    else:\n",
    "        return \"C\"\n",
    "get_score_grade=students.loc[:, \"考试1\":\"考试3\"].applymap(get_grade)\n",
    "name=students[\"姓名\"]\n",
    "get_score_grade[\"姓名\"]=name\n",
    "get_score_grade"
   ]
  },
  {
   "cell_type": "code",
   "execution_count": 191,
   "id": "89adb3c0",
   "metadata": {},
   "outputs": [
    {
     "data": {
      "text/html": [
       "<div>\n",
       "<style scoped>\n",
       "    .dataframe tbody tr th:only-of-type {\n",
       "        vertical-align: middle;\n",
       "    }\n",
       "\n",
       "    .dataframe tbody tr th {\n",
       "        vertical-align: top;\n",
       "    }\n",
       "\n",
       "    .dataframe thead th {\n",
       "        text-align: right;\n",
       "    }\n",
       "</style>\n",
       "<table border=\"1\" class=\"dataframe\">\n",
       "  <thead>\n",
       "    <tr style=\"text-align: right;\">\n",
       "      <th></th>\n",
       "      <th>姓名</th>\n",
       "      <th>考试1</th>\n",
       "      <th>考试2</th>\n",
       "      <th>考试3</th>\n",
       "      <th>平均分</th>\n",
       "    </tr>\n",
       "  </thead>\n",
       "  <tbody>\n",
       "    <tr>\n",
       "      <th>count</th>\n",
       "      <td>6</td>\n",
       "      <td>6</td>\n",
       "      <td>6</td>\n",
       "      <td>6</td>\n",
       "      <td>6.000000</td>\n",
       "    </tr>\n",
       "    <tr>\n",
       "      <th>unique</th>\n",
       "      <td>6</td>\n",
       "      <td>6</td>\n",
       "      <td>5</td>\n",
       "      <td>5</td>\n",
       "      <td>6.000000</td>\n",
       "    </tr>\n",
       "    <tr>\n",
       "      <th>top</th>\n",
       "      <td>小陈</td>\n",
       "      <td>85</td>\n",
       "      <td>89</td>\n",
       "      <td>92</td>\n",
       "      <td>90.666667</td>\n",
       "    </tr>\n",
       "    <tr>\n",
       "      <th>freq</th>\n",
       "      <td>1</td>\n",
       "      <td>1</td>\n",
       "      <td>2</td>\n",
       "      <td>2</td>\n",
       "      <td>1.000000</td>\n",
       "    </tr>\n",
       "  </tbody>\n",
       "</table>\n",
       "</div>"
      ],
      "text/plain": [
       "        姓名  考试1  考试2  考试3        平均分\n",
       "count    6    6    6    6   6.000000\n",
       "unique   6    6    5    5   6.000000\n",
       "top     小陈   85   89   92  90.666667\n",
       "freq     1    1    2    2   1.000000"
      ]
     },
     "execution_count": 191,
     "metadata": {},
     "output_type": "execute_result"
    }
   ],
   "source": [
    "students.describe()"
   ]
  },
  {
   "cell_type": "code",
   "execution_count": 192,
   "id": "05612432",
   "metadata": {},
   "outputs": [
    {
     "data": {
      "text/plain": [
       "001    85\n",
       "002    91\n",
       "003    86\n",
       "004    79\n",
       "005    96\n",
       "006    81\n",
       "Name: 考试1, dtype: object"
      ]
     },
     "execution_count": 192,
     "metadata": {},
     "output_type": "execute_result"
    }
   ],
   "source": [
    "students[\"考试1\"]"
   ]
  },
  {
   "cell_type": "code",
   "execution_count": 196,
   "id": "4d684189",
   "metadata": {},
   "outputs": [
    {
     "data": {
      "text/html": [
       "<div>\n",
       "<style scoped>\n",
       "    .dataframe tbody tr th:only-of-type {\n",
       "        vertical-align: middle;\n",
       "    }\n",
       "\n",
       "    .dataframe tbody tr th {\n",
       "        vertical-align: top;\n",
       "    }\n",
       "\n",
       "    .dataframe thead th {\n",
       "        text-align: right;\n",
       "    }\n",
       "</style>\n",
       "<table border=\"1\" class=\"dataframe\">\n",
       "  <thead>\n",
       "    <tr style=\"text-align: right;\">\n",
       "      <th></th>\n",
       "      <th>考试1</th>\n",
       "      <th>考试2</th>\n",
       "      <th>考试3</th>\n",
       "    </tr>\n",
       "  </thead>\n",
       "  <tbody>\n",
       "    <tr>\n",
       "      <th>count</th>\n",
       "      <td>6.000000</td>\n",
       "      <td>6.000000</td>\n",
       "      <td>6.000000</td>\n",
       "    </tr>\n",
       "    <tr>\n",
       "      <th>mean</th>\n",
       "      <td>86.333333</td>\n",
       "      <td>89.500000</td>\n",
       "      <td>92.166667</td>\n",
       "    </tr>\n",
       "    <tr>\n",
       "      <th>std</th>\n",
       "      <td>6.314006</td>\n",
       "      <td>4.722288</td>\n",
       "      <td>2.136976</td>\n",
       "    </tr>\n",
       "    <tr>\n",
       "      <th>min</th>\n",
       "      <td>79.000000</td>\n",
       "      <td>81.000000</td>\n",
       "      <td>89.000000</td>\n",
       "    </tr>\n",
       "    <tr>\n",
       "      <th>25%</th>\n",
       "      <td>82.000000</td>\n",
       "      <td>89.000000</td>\n",
       "      <td>91.250000</td>\n",
       "    </tr>\n",
       "    <tr>\n",
       "      <th>50%</th>\n",
       "      <td>85.500000</td>\n",
       "      <td>90.000000</td>\n",
       "      <td>92.000000</td>\n",
       "    </tr>\n",
       "    <tr>\n",
       "      <th>75%</th>\n",
       "      <td>89.750000</td>\n",
       "      <td>91.750000</td>\n",
       "      <td>93.500000</td>\n",
       "    </tr>\n",
       "    <tr>\n",
       "      <th>max</th>\n",
       "      <td>96.000000</td>\n",
       "      <td>95.000000</td>\n",
       "      <td>95.000000</td>\n",
       "    </tr>\n",
       "  </tbody>\n",
       "</table>\n",
       "</div>"
      ],
      "text/plain": [
       "             考试1        考试2        考试3\n",
       "count   6.000000   6.000000   6.000000\n",
       "mean   86.333333  89.500000  92.166667\n",
       "std     6.314006   4.722288   2.136976\n",
       "min    79.000000  81.000000  89.000000\n",
       "25%    82.000000  89.000000  91.250000\n",
       "50%    85.500000  90.000000  92.000000\n",
       "75%    89.750000  91.750000  93.500000\n",
       "max    96.000000  95.000000  95.000000"
      ]
     },
     "execution_count": 196,
     "metadata": {},
     "output_type": "execute_result"
    }
   ],
   "source": [
    "students[\"考试1\"]=students[\"考试1\"].astype(\"int\")\n",
    "students[\"考试2\"]=students[\"考试2\"].astype(\"int\")\n",
    "students[\"考试3\"]=students[\"考试3\"].astype(\"int\")\n",
    "students.describe()"
   ]
  },
  {
   "cell_type": "markdown",
   "id": "0ef9beef",
   "metadata": {},
   "source": [
    "获取数据集：爬虫，api等。爬虫： 常见的获取数据的方法。第一，通过发送请求获取网页源代码。第二，解析网页源代码内容，提取出想要的内容，然后这些数据就可以作为后续分析的原料了。API: application programming interface 应用程序编程接口，API定义了两个程序之间的服务合约，即双方是如何使用请求和响应来进行通讯的。爬虫时，发送请求后获取的是网页源码。"
   ]
  },
  {
   "cell_type": "markdown",
   "id": "a5204b04",
   "metadata": {},
   "source": [
    "JSON: JavaScript Object Notation\n",
    "JSON有两种数据结构： 对象和数组可分别被转换成Python字典和列表。"
   ]
  },
  {
   "cell_type": "code",
   "execution_count": null,
   "id": "e84902c3",
   "metadata": {},
   "outputs": [],
   "source": [
    "#JSON对象\n",
    "{\n",
    "    \"id\":\"1\",\n",
    "    \"type\":\"article\",\n",
    "    \"title\":\"working with JSON data\",\n",
    "    \"created\":\"2099-12-18T14:56:29.00Z\"\n",
    "}\n",
    "#JSON数组\n",
    "[\n",
    "    {\n",
    "        \"title\":\"A light in the Attic\",\n",
    "        \"price\": \"51.77\"\n",
    "    },\n",
    "    {\n",
    "        \"title\":\"Tipping the Velvet\",\n",
    "        \"price\": \"53.74\"\n",
    "    }\n",
    "]\n",
    "#只能是字符串作为Key\n",
    "[\n",
    "    {\"键一\": 1, \n",
    "    \"键二\":[true, 3]},\n",
    "    3.14,[null, null], true\n",
    "]\n"
   ]
  },
  {
   "cell_type": "markdown",
   "id": "f01c4bb2",
   "metadata": {},
   "source": [
    "如何read in Json文件\n",
    "pd.read_json()"
   ]
  },
  {
   "cell_type": "markdown",
   "id": "f449c440",
   "metadata": {},
   "source": [
    "csv：comma seperated values \n",
    "pd.read_csv(\"path\", index_col=\"player_id\")自己定义索引\n",
    "pd.set_option(\"display.max_columns\", 150)最多展示150列\n",
    "pd.set_option(\"display.max_colwidth\", 500)每列里的值最多包含几个字符\n",
    "df1.tail（）输出最后几行\n",
    "df1.info()\n",
    "def1.describe()"
   ]
  },
  {
   "cell_type": "code",
   "execution_count": 197,
   "id": "e4ba6a43",
   "metadata": {},
   "outputs": [
    {
     "data": {
      "text/html": [
       "<div>\n",
       "<style scoped>\n",
       "    .dataframe tbody tr th:only-of-type {\n",
       "        vertical-align: middle;\n",
       "    }\n",
       "\n",
       "    .dataframe tbody tr th {\n",
       "        vertical-align: top;\n",
       "    }\n",
       "\n",
       "    .dataframe thead th {\n",
       "        text-align: right;\n",
       "    }\n",
       "</style>\n",
       "<table border=\"1\" class=\"dataframe\">\n",
       "  <thead>\n",
       "    <tr style=\"text-align: right;\">\n",
       "      <th></th>\n",
       "      <th>price</th>\n",
       "      <th>area</th>\n",
       "      <th>bedrooms</th>\n",
       "      <th>bathrooms</th>\n",
       "      <th>stories</th>\n",
       "      <th>mainroad</th>\n",
       "      <th>guestroom</th>\n",
       "      <th>basement</th>\n",
       "      <th>hotwaterheating</th>\n",
       "      <th>airconditioning</th>\n",
       "      <th>parking</th>\n",
       "      <th>prefarea</th>\n",
       "      <th>furnishingstatus</th>\n",
       "    </tr>\n",
       "  </thead>\n",
       "  <tbody>\n",
       "    <tr>\n",
       "      <th>0</th>\n",
       "      <td>13300000</td>\n",
       "      <td>7420</td>\n",
       "      <td>4</td>\n",
       "      <td>2</td>\n",
       "      <td>3</td>\n",
       "      <td>yes</td>\n",
       "      <td>no</td>\n",
       "      <td>no</td>\n",
       "      <td>no</td>\n",
       "      <td>yes</td>\n",
       "      <td>2</td>\n",
       "      <td>yes</td>\n",
       "      <td>furnished</td>\n",
       "    </tr>\n",
       "    <tr>\n",
       "      <th>1</th>\n",
       "      <td>12250000</td>\n",
       "      <td>8960</td>\n",
       "      <td>4</td>\n",
       "      <td>4</td>\n",
       "      <td>4</td>\n",
       "      <td>yes</td>\n",
       "      <td>no</td>\n",
       "      <td>no</td>\n",
       "      <td>no</td>\n",
       "      <td>yes</td>\n",
       "      <td>3</td>\n",
       "      <td>no</td>\n",
       "      <td>furnished</td>\n",
       "    </tr>\n",
       "    <tr>\n",
       "      <th>2</th>\n",
       "      <td>12250000</td>\n",
       "      <td>9960</td>\n",
       "      <td>3</td>\n",
       "      <td>2</td>\n",
       "      <td>2</td>\n",
       "      <td>yes</td>\n",
       "      <td>no</td>\n",
       "      <td>yes</td>\n",
       "      <td>no</td>\n",
       "      <td>no</td>\n",
       "      <td>2</td>\n",
       "      <td>yes</td>\n",
       "      <td>semi-furnished</td>\n",
       "    </tr>\n",
       "    <tr>\n",
       "      <th>3</th>\n",
       "      <td>12215000</td>\n",
       "      <td>7500</td>\n",
       "      <td>4</td>\n",
       "      <td>2</td>\n",
       "      <td>2</td>\n",
       "      <td>yes</td>\n",
       "      <td>no</td>\n",
       "      <td>yes</td>\n",
       "      <td>no</td>\n",
       "      <td>yes</td>\n",
       "      <td>3</td>\n",
       "      <td>yes</td>\n",
       "      <td>furnished</td>\n",
       "    </tr>\n",
       "    <tr>\n",
       "      <th>4</th>\n",
       "      <td>11410000</td>\n",
       "      <td>7420</td>\n",
       "      <td>4</td>\n",
       "      <td>1</td>\n",
       "      <td>2</td>\n",
       "      <td>yes</td>\n",
       "      <td>yes</td>\n",
       "      <td>yes</td>\n",
       "      <td>no</td>\n",
       "      <td>yes</td>\n",
       "      <td>2</td>\n",
       "      <td>no</td>\n",
       "      <td>furnished</td>\n",
       "    </tr>\n",
       "    <tr>\n",
       "      <th>...</th>\n",
       "      <td>...</td>\n",
       "      <td>...</td>\n",
       "      <td>...</td>\n",
       "      <td>...</td>\n",
       "      <td>...</td>\n",
       "      <td>...</td>\n",
       "      <td>...</td>\n",
       "      <td>...</td>\n",
       "      <td>...</td>\n",
       "      <td>...</td>\n",
       "      <td>...</td>\n",
       "      <td>...</td>\n",
       "      <td>...</td>\n",
       "    </tr>\n",
       "    <tr>\n",
       "      <th>540</th>\n",
       "      <td>1820000</td>\n",
       "      <td>3000</td>\n",
       "      <td>2</td>\n",
       "      <td>1</td>\n",
       "      <td>1</td>\n",
       "      <td>yes</td>\n",
       "      <td>no</td>\n",
       "      <td>yes</td>\n",
       "      <td>no</td>\n",
       "      <td>no</td>\n",
       "      <td>2</td>\n",
       "      <td>no</td>\n",
       "      <td>unfurnished</td>\n",
       "    </tr>\n",
       "    <tr>\n",
       "      <th>541</th>\n",
       "      <td>1767150</td>\n",
       "      <td>2400</td>\n",
       "      <td>3</td>\n",
       "      <td>1</td>\n",
       "      <td>1</td>\n",
       "      <td>no</td>\n",
       "      <td>no</td>\n",
       "      <td>no</td>\n",
       "      <td>no</td>\n",
       "      <td>no</td>\n",
       "      <td>0</td>\n",
       "      <td>no</td>\n",
       "      <td>semi-furnished</td>\n",
       "    </tr>\n",
       "    <tr>\n",
       "      <th>542</th>\n",
       "      <td>1750000</td>\n",
       "      <td>3620</td>\n",
       "      <td>2</td>\n",
       "      <td>1</td>\n",
       "      <td>1</td>\n",
       "      <td>yes</td>\n",
       "      <td>no</td>\n",
       "      <td>no</td>\n",
       "      <td>no</td>\n",
       "      <td>no</td>\n",
       "      <td>0</td>\n",
       "      <td>no</td>\n",
       "      <td>unfurnished</td>\n",
       "    </tr>\n",
       "    <tr>\n",
       "      <th>543</th>\n",
       "      <td>1750000</td>\n",
       "      <td>2910</td>\n",
       "      <td>3</td>\n",
       "      <td>1</td>\n",
       "      <td>1</td>\n",
       "      <td>no</td>\n",
       "      <td>no</td>\n",
       "      <td>no</td>\n",
       "      <td>no</td>\n",
       "      <td>no</td>\n",
       "      <td>0</td>\n",
       "      <td>no</td>\n",
       "      <td>furnished</td>\n",
       "    </tr>\n",
       "    <tr>\n",
       "      <th>544</th>\n",
       "      <td>1750000</td>\n",
       "      <td>3850</td>\n",
       "      <td>3</td>\n",
       "      <td>1</td>\n",
       "      <td>2</td>\n",
       "      <td>yes</td>\n",
       "      <td>no</td>\n",
       "      <td>no</td>\n",
       "      <td>no</td>\n",
       "      <td>no</td>\n",
       "      <td>0</td>\n",
       "      <td>no</td>\n",
       "      <td>unfurnished</td>\n",
       "    </tr>\n",
       "  </tbody>\n",
       "</table>\n",
       "<p>545 rows × 13 columns</p>\n",
       "</div>"
      ],
      "text/plain": [
       "        price  area  bedrooms  bathrooms  stories mainroad guestroom basement  \\\n",
       "0    13300000  7420         4          2        3      yes        no       no   \n",
       "1    12250000  8960         4          4        4      yes        no       no   \n",
       "2    12250000  9960         3          2        2      yes        no      yes   \n",
       "3    12215000  7500         4          2        2      yes        no      yes   \n",
       "4    11410000  7420         4          1        2      yes       yes      yes   \n",
       "..        ...   ...       ...        ...      ...      ...       ...      ...   \n",
       "540   1820000  3000         2          1        1      yes        no      yes   \n",
       "541   1767150  2400         3          1        1       no        no       no   \n",
       "542   1750000  3620         2          1        1      yes        no       no   \n",
       "543   1750000  2910         3          1        1       no        no       no   \n",
       "544   1750000  3850         3          1        2      yes        no       no   \n",
       "\n",
       "    hotwaterheating airconditioning  parking prefarea furnishingstatus  \n",
       "0                no             yes        2      yes        furnished  \n",
       "1                no             yes        3       no        furnished  \n",
       "2                no              no        2      yes   semi-furnished  \n",
       "3                no             yes        3      yes        furnished  \n",
       "4                no             yes        2       no        furnished  \n",
       "..              ...             ...      ...      ...              ...  \n",
       "540              no              no        2       no      unfurnished  \n",
       "541              no              no        0       no   semi-furnished  \n",
       "542              no              no        0       no      unfurnished  \n",
       "543              no              no        0       no        furnished  \n",
       "544              no              no        0       no      unfurnished  \n",
       "\n",
       "[545 rows x 13 columns]"
      ]
     },
     "execution_count": 197,
     "metadata": {},
     "output_type": "execute_result"
    }
   ],
   "source": [
    "df=pd.read_csv(\"/Users/weizhao/Desktop/Python/pythonProject/林粒粒python/course-documents/13 项目5：CSV数据分析智能工具/house_price.csv\")"
   ]
  },
  {
   "cell_type": "markdown",
   "id": "d3555e39",
   "metadata": {},
   "source": [
    "评估数据：结构和内容\n",
    "整洁数据的特点：1， 每列是一个变量。2，每行是一个观察值。3，每个单元格是一个值\n",
    "整洁数据并不是方便人类理解，而是让代码更高效处理和达成分析目的的。清理数据的目的是为了后续更高效地用程序处理数据，而不是更方便的让人类理解。\n",
    "Pandas会自动忽略空缺值"
   ]
  },
  {
   "cell_type": "markdown",
   "id": "d46c4c5b",
   "metadata": {},
   "source": [
    "评估丢失数据： isnull().sum() 得到某列/各列空缺值的数量\n",
    "评估重复数据：duplicated()\n",
    "duplicated(subset=[\"学号\",\"性别\"])是否存在重复的多个变量\n",
    "评估不一致数据：value_counts()\n",
    "评估无效/错误数据：sort_value()\n",
    "describe()"
   ]
  },
  {
   "cell_type": "markdown",
   "id": "da4477e9",
   "metadata": {},
   "source": [
    "数据的索引或者列名乱七八糟，用DataFrame的rename方法，进行重新命名。\n",
    "def1.rename(index={\"-2\":\"2\", \"_5\":\"5\", \"6*\":\"6\"})\n",
    "def1.rename(columns={\"客户_姓名\":\"客户姓名\", \"客户 性别\": \"客户性别\", \"age\":\"客户年龄\"})\n",
    "rename除了可传入字典，还可以传入一个针对Series的函数或方法,可以是pandans库里面的，也可以是我们自行定义的\n",
    "def2.rename(index=某函数/方法)\n",
    "def2.rename(index=str.upper)把所有列名变成大写\n",
    "str是Series类自带的一个属性，会返回一个包含了很多字符串相关操作方法的stringMethods类的实例。对这个StringMethods实例调用upper方法。\n",
    "pandas.Series.str\n",
    "把某列的设置为索引：\n",
    "df2.set_index(\"Salesperson\")\n",
    "df3.reset_index()索引重新设置为初始默认的\n",
    "对索引和列名重新排序：\n",
    "df4.sort_index()\n",
    "都不会改变原始的DataFrame。inplace=True\n"
   ]
  },
  {
   "cell_type": "markdown",
   "id": "6f8d17fc",
   "metadata": {},
   "source": [
    "对列进行拆分：\n",
    "“28.53万人/0.87平方公里” 针对python字符串，可用split方法. “28.53万人/0.87平方公里”.split(\"/\") 可得到 ['28.53万人', '0.87平方公里']\n",
    "Series也有一个能达到类似效果的方法：Series的str属性会返回一个包含很多字符串操作方法的类实例\n",
    "df2[[\"人口\", “面积”]]=df2[“人口密度”].str.split(\"/\", expand=True)\n",
    "把不同的列合并成一列：\n",
    "df3[“姓”].str.cat(df3[“名”], sep=\"-\")指定拼接时的分隔符\n",
    "把宽数据转换成长数据：把一部分列名的值转换为变量的值\n",
    "pd.melt(df4,id_vars=[\"国家代码\",\"年份\"], var_name='年龄组', value_name='肺结核病例数')\n",
    "对行进行拆分：\n",
    "df5.explode(\"课程列表\")"
   ]
  },
  {
   "cell_type": "markdown",
   "id": "b1ba3eb1",
   "metadata": {},
   "source": [
    "清理数据的内容性问题：\n",
    "对整列缺失值进行填充：\n",
    "df2.loc[\"003\", \"销售额\"]=800\n",
    "能用loc或iloc提取出来的部分都可以通过附值来填充或替换值。这需要自行定位缺失值的位置。\n",
    "自动找到缺失值进行填充\n",
    "df4[\"B\"].fillna(df[\"B\"].mean())\n",
    "df4.fillna(0)\n",
    "df4.fillna({'A':0, 'B':10, 'C':20})把不同列的空缺值替换成不同值的效果\n",
    "删除有缺失值的数据\n",
    "df5.dropna()只要某行任何一个值是空缺的，就会被drop掉\n",
    "df5.dropna(subset=[\"工资\"]) 只看工资这一列有无缺失，工资缺失则删除整行\n",
    "删除重复数据：\n",
    "df6.drop_duplicates()只有当所有变量都相同时才会被视为重复\n",
    "df6.drop_duplicates(subsets=['姓名'， ‘性别’])姓名和性别重复就删除\n",
    "对值进行替换：\n",
    "df7.replace([\"清华\"，“五道口职业技术学校”， “Tsinghua University”]， “清华大学”)\n",
    "对值的类型进行转换：\n",
    "s1.astype(int)\n",
    "python字符串会以object这个类型名字来表示\n",
    "分类数据：有限的性别种类。category\n",
    "s1.astype(\"category\")"
   ]
  },
  {
   "cell_type": "markdown",
   "id": "c9a448c7",
   "metadata": {},
   "source": [
    "df1.to_csv(\"path\")将DataFrame转换为csv格式\n",
    "df1.to_csv(\"path\"， index=False)"
   ]
  },
  {
   "cell_type": "code",
   "execution_count": 207,
   "id": "90082864",
   "metadata": {},
   "outputs": [],
   "source": [
    "original_data=pd.read_excel(\"/Users/weizhao/Desktop/Python/pythonProject/林粒粒python/Online Retail.xlsx\")"
   ]
  },
  {
   "cell_type": "code",
   "execution_count": 208,
   "id": "6eb3aed0",
   "metadata": {},
   "outputs": [
    {
     "data": {
      "text/html": [
       "<div>\n",
       "<style scoped>\n",
       "    .dataframe tbody tr th:only-of-type {\n",
       "        vertical-align: middle;\n",
       "    }\n",
       "\n",
       "    .dataframe tbody tr th {\n",
       "        vertical-align: top;\n",
       "    }\n",
       "\n",
       "    .dataframe thead th {\n",
       "        text-align: right;\n",
       "    }\n",
       "</style>\n",
       "<table border=\"1\" class=\"dataframe\">\n",
       "  <thead>\n",
       "    <tr style=\"text-align: right;\">\n",
       "      <th></th>\n",
       "      <th>InvoiceNo</th>\n",
       "      <th>StockCode</th>\n",
       "      <th>Description</th>\n",
       "      <th>Quantity</th>\n",
       "      <th>InvoiceDate</th>\n",
       "      <th>UnitPrice</th>\n",
       "      <th>CustomerID</th>\n",
       "      <th>Country</th>\n",
       "    </tr>\n",
       "  </thead>\n",
       "  <tbody>\n",
       "    <tr>\n",
       "      <th>0</th>\n",
       "      <td>536365</td>\n",
       "      <td>85123A</td>\n",
       "      <td>WHITE HANGING HEART T-LIGHT HOLDER</td>\n",
       "      <td>6</td>\n",
       "      <td>2010-12-01 08:26:00</td>\n",
       "      <td>2.55</td>\n",
       "      <td>17850.0</td>\n",
       "      <td>United Kingdom</td>\n",
       "    </tr>\n",
       "    <tr>\n",
       "      <th>1</th>\n",
       "      <td>536365</td>\n",
       "      <td>71053</td>\n",
       "      <td>WHITE METAL LANTERN</td>\n",
       "      <td>6</td>\n",
       "      <td>2010-12-01 08:26:00</td>\n",
       "      <td>3.39</td>\n",
       "      <td>17850.0</td>\n",
       "      <td>United Kingdom</td>\n",
       "    </tr>\n",
       "    <tr>\n",
       "      <th>2</th>\n",
       "      <td>536365</td>\n",
       "      <td>84406B</td>\n",
       "      <td>CREAM CUPID HEARTS COAT HANGER</td>\n",
       "      <td>8</td>\n",
       "      <td>2010-12-01 08:26:00</td>\n",
       "      <td>2.75</td>\n",
       "      <td>17850.0</td>\n",
       "      <td>United Kingdom</td>\n",
       "    </tr>\n",
       "    <tr>\n",
       "      <th>3</th>\n",
       "      <td>536365</td>\n",
       "      <td>84029G</td>\n",
       "      <td>KNITTED UNION FLAG HOT WATER BOTTLE</td>\n",
       "      <td>6</td>\n",
       "      <td>2010-12-01 08:26:00</td>\n",
       "      <td>3.39</td>\n",
       "      <td>17850.0</td>\n",
       "      <td>United Kingdom</td>\n",
       "    </tr>\n",
       "    <tr>\n",
       "      <th>4</th>\n",
       "      <td>536365</td>\n",
       "      <td>84029E</td>\n",
       "      <td>RED WOOLLY HOTTIE WHITE HEART.</td>\n",
       "      <td>6</td>\n",
       "      <td>2010-12-01 08:26:00</td>\n",
       "      <td>3.39</td>\n",
       "      <td>17850.0</td>\n",
       "      <td>United Kingdom</td>\n",
       "    </tr>\n",
       "  </tbody>\n",
       "</table>\n",
       "</div>"
      ],
      "text/plain": [
       "  InvoiceNo StockCode                          Description  Quantity  \\\n",
       "0    536365    85123A   WHITE HANGING HEART T-LIGHT HOLDER         6   \n",
       "1    536365     71053                  WHITE METAL LANTERN         6   \n",
       "2    536365    84406B       CREAM CUPID HEARTS COAT HANGER         8   \n",
       "3    536365    84029G  KNITTED UNION FLAG HOT WATER BOTTLE         6   \n",
       "4    536365    84029E       RED WOOLLY HOTTIE WHITE HEART.         6   \n",
       "\n",
       "          InvoiceDate  UnitPrice  CustomerID         Country  \n",
       "0 2010-12-01 08:26:00       2.55     17850.0  United Kingdom  \n",
       "1 2010-12-01 08:26:00       3.39     17850.0  United Kingdom  \n",
       "2 2010-12-01 08:26:00       2.75     17850.0  United Kingdom  \n",
       "3 2010-12-01 08:26:00       3.39     17850.0  United Kingdom  \n",
       "4 2010-12-01 08:26:00       3.39     17850.0  United Kingdom  "
      ]
     },
     "execution_count": 208,
     "metadata": {},
     "output_type": "execute_result"
    }
   ],
   "source": [
    "original_data.head()"
   ]
  },
  {
   "cell_type": "code",
   "execution_count": 209,
   "id": "3e622cee",
   "metadata": {},
   "outputs": [
    {
     "data": {
      "text/html": [
       "<div>\n",
       "<style scoped>\n",
       "    .dataframe tbody tr th:only-of-type {\n",
       "        vertical-align: middle;\n",
       "    }\n",
       "\n",
       "    .dataframe tbody tr th {\n",
       "        vertical-align: top;\n",
       "    }\n",
       "\n",
       "    .dataframe thead th {\n",
       "        text-align: right;\n",
       "    }\n",
       "</style>\n",
       "<table border=\"1\" class=\"dataframe\">\n",
       "  <thead>\n",
       "    <tr style=\"text-align: right;\">\n",
       "      <th></th>\n",
       "      <th>InvoiceNo</th>\n",
       "      <th>StockCode</th>\n",
       "      <th>Description</th>\n",
       "      <th>Quantity</th>\n",
       "      <th>InvoiceDate</th>\n",
       "      <th>UnitPrice</th>\n",
       "      <th>CustomerID</th>\n",
       "      <th>Country</th>\n",
       "    </tr>\n",
       "  </thead>\n",
       "  <tbody>\n",
       "    <tr>\n",
       "      <th>289319</th>\n",
       "      <td>562264</td>\n",
       "      <td>21096</td>\n",
       "      <td>SET/6 FRUIT SALAD  PAPER PLATES</td>\n",
       "      <td>1</td>\n",
       "      <td>2011-08-03 16:14:00</td>\n",
       "      <td>0.83</td>\n",
       "      <td>NaN</td>\n",
       "      <td>United Kingdom</td>\n",
       "    </tr>\n",
       "    <tr>\n",
       "      <th>412359</th>\n",
       "      <td>572285</td>\n",
       "      <td>22575</td>\n",
       "      <td>METAL MERRY CHRISTMAS WREATH</td>\n",
       "      <td>2</td>\n",
       "      <td>2011-10-23 12:16:00</td>\n",
       "      <td>1.95</td>\n",
       "      <td>14698.0</td>\n",
       "      <td>United Kingdom</td>\n",
       "    </tr>\n",
       "    <tr>\n",
       "      <th>512832</th>\n",
       "      <td>579516</td>\n",
       "      <td>23266</td>\n",
       "      <td>SET OF 3 WOODEN STOCKING DECORATION</td>\n",
       "      <td>7</td>\n",
       "      <td>2011-11-29 17:52:00</td>\n",
       "      <td>1.25</td>\n",
       "      <td>17841.0</td>\n",
       "      <td>United Kingdom</td>\n",
       "    </tr>\n",
       "    <tr>\n",
       "      <th>39780</th>\n",
       "      <td>539708</td>\n",
       "      <td>15056N</td>\n",
       "      <td>EDWARDIAN PARASOL NATURAL</td>\n",
       "      <td>1</td>\n",
       "      <td>2010-12-21 12:18:00</td>\n",
       "      <td>12.72</td>\n",
       "      <td>NaN</td>\n",
       "      <td>United Kingdom</td>\n",
       "    </tr>\n",
       "    <tr>\n",
       "      <th>186395</th>\n",
       "      <td>552857</td>\n",
       "      <td>85132A</td>\n",
       "      <td>CHARLIE + LOLA BISCUITS TINS</td>\n",
       "      <td>1</td>\n",
       "      <td>2011-05-11 15:34:00</td>\n",
       "      <td>5.79</td>\n",
       "      <td>NaN</td>\n",
       "      <td>United Kingdom</td>\n",
       "    </tr>\n",
       "    <tr>\n",
       "      <th>400593</th>\n",
       "      <td>571322</td>\n",
       "      <td>85099C</td>\n",
       "      <td>JUMBO  BAG BAROQUE BLACK WHITE</td>\n",
       "      <td>10</td>\n",
       "      <td>2011-10-17 11:05:00</td>\n",
       "      <td>2.08</td>\n",
       "      <td>13534.0</td>\n",
       "      <td>United Kingdom</td>\n",
       "    </tr>\n",
       "    <tr>\n",
       "      <th>78731</th>\n",
       "      <td>542895</td>\n",
       "      <td>85123A</td>\n",
       "      <td>WHITE HANGING HEART T-LIGHT HOLDER</td>\n",
       "      <td>3</td>\n",
       "      <td>2011-02-01 13:47:00</td>\n",
       "      <td>2.95</td>\n",
       "      <td>14549.0</td>\n",
       "      <td>United Kingdom</td>\n",
       "    </tr>\n",
       "    <tr>\n",
       "      <th>40833</th>\n",
       "      <td>539744</td>\n",
       "      <td>22460</td>\n",
       "      <td>EMBOSSED GLASS TEALIGHT HOLDER</td>\n",
       "      <td>3</td>\n",
       "      <td>2010-12-21 15:21:00</td>\n",
       "      <td>2.51</td>\n",
       "      <td>NaN</td>\n",
       "      <td>United Kingdom</td>\n",
       "    </tr>\n",
       "    <tr>\n",
       "      <th>300577</th>\n",
       "      <td>563205</td>\n",
       "      <td>22274</td>\n",
       "      <td>FELTCRAFT DOLL EMILY</td>\n",
       "      <td>1</td>\n",
       "      <td>2011-08-14 12:03:00</td>\n",
       "      <td>2.95</td>\n",
       "      <td>14040.0</td>\n",
       "      <td>United Kingdom</td>\n",
       "    </tr>\n",
       "    <tr>\n",
       "      <th>528647</th>\n",
       "      <td>580729</td>\n",
       "      <td>23541</td>\n",
       "      <td>WALL ART CLASSIC PUDDINGS</td>\n",
       "      <td>1</td>\n",
       "      <td>2011-12-05 17:24:00</td>\n",
       "      <td>16.63</td>\n",
       "      <td>NaN</td>\n",
       "      <td>United Kingdom</td>\n",
       "    </tr>\n",
       "  </tbody>\n",
       "</table>\n",
       "</div>"
      ],
      "text/plain": [
       "       InvoiceNo StockCode                          Description  Quantity  \\\n",
       "289319    562264     21096      SET/6 FRUIT SALAD  PAPER PLATES         1   \n",
       "412359    572285     22575         METAL MERRY CHRISTMAS WREATH         2   \n",
       "512832    579516     23266  SET OF 3 WOODEN STOCKING DECORATION         7   \n",
       "39780     539708    15056N            EDWARDIAN PARASOL NATURAL         1   \n",
       "186395    552857    85132A         CHARLIE + LOLA BISCUITS TINS         1   \n",
       "400593    571322    85099C       JUMBO  BAG BAROQUE BLACK WHITE        10   \n",
       "78731     542895    85123A   WHITE HANGING HEART T-LIGHT HOLDER         3   \n",
       "40833     539744     22460       EMBOSSED GLASS TEALIGHT HOLDER         3   \n",
       "300577    563205     22274                 FELTCRAFT DOLL EMILY         1   \n",
       "528647    580729     23541           WALL ART CLASSIC PUDDINGS          1   \n",
       "\n",
       "               InvoiceDate  UnitPrice  CustomerID         Country  \n",
       "289319 2011-08-03 16:14:00       0.83         NaN  United Kingdom  \n",
       "412359 2011-10-23 12:16:00       1.95     14698.0  United Kingdom  \n",
       "512832 2011-11-29 17:52:00       1.25     17841.0  United Kingdom  \n",
       "39780  2010-12-21 12:18:00      12.72         NaN  United Kingdom  \n",
       "186395 2011-05-11 15:34:00       5.79         NaN  United Kingdom  \n",
       "400593 2011-10-17 11:05:00       2.08     13534.0  United Kingdom  \n",
       "78731  2011-02-01 13:47:00       2.95     14549.0  United Kingdom  \n",
       "40833  2010-12-21 15:21:00       2.51         NaN  United Kingdom  \n",
       "300577 2011-08-14 12:03:00       2.95     14040.0  United Kingdom  \n",
       "528647 2011-12-05 17:24:00      16.63         NaN  United Kingdom  "
      ]
     },
     "execution_count": 209,
     "metadata": {},
     "output_type": "execute_result"
    }
   ],
   "source": [
    "original_data.sample(10)"
   ]
  },
  {
   "cell_type": "code",
   "execution_count": 210,
   "id": "c4ee0b1e",
   "metadata": {},
   "outputs": [
    {
     "name": "stdout",
     "output_type": "stream",
     "text": [
      "<class 'pandas.core.frame.DataFrame'>\n",
      "RangeIndex: 541909 entries, 0 to 541908\n",
      "Data columns (total 8 columns):\n",
      " #   Column       Non-Null Count   Dtype         \n",
      "---  ------       --------------   -----         \n",
      " 0   InvoiceNo    541909 non-null  object        \n",
      " 1   StockCode    541909 non-null  object        \n",
      " 2   Description  540455 non-null  object        \n",
      " 3   Quantity     541909 non-null  int64         \n",
      " 4   InvoiceDate  541909 non-null  datetime64[ns]\n",
      " 5   UnitPrice    541909 non-null  float64       \n",
      " 6   CustomerID   406829 non-null  float64       \n",
      " 7   Country      541909 non-null  object        \n",
      "dtypes: datetime64[ns](1), float64(2), int64(1), object(4)\n",
      "memory usage: 33.1+ MB\n"
     ]
    }
   ],
   "source": [
    "original_data.info()"
   ]
  },
  {
   "cell_type": "code",
   "execution_count": 218,
   "id": "0569587b",
   "metadata": {},
   "outputs": [
    {
     "name": "stdout",
     "output_type": "stream",
     "text": [
      "InvoiceNo           0\n",
      "StockCode           0\n",
      "Description      1454\n",
      "Quantity            0\n",
      "InvoiceDate         0\n",
      "UnitPrice           0\n",
      "CustomerID     135080\n",
      "Country             0\n",
      "dtype: int64\n",
      "0         False\n",
      "1         False\n",
      "2         False\n",
      "3         False\n",
      "4         False\n",
      "          ...  \n",
      "541904    False\n",
      "541905    False\n",
      "541906    False\n",
      "541907    False\n",
      "541908    False\n",
      "Name: Description, Length: 541909, dtype: bool\n"
     ]
    },
    {
     "data": {
      "text/html": [
       "<div>\n",
       "<style scoped>\n",
       "    .dataframe tbody tr th:only-of-type {\n",
       "        vertical-align: middle;\n",
       "    }\n",
       "\n",
       "    .dataframe tbody tr th {\n",
       "        vertical-align: top;\n",
       "    }\n",
       "\n",
       "    .dataframe thead th {\n",
       "        text-align: right;\n",
       "    }\n",
       "</style>\n",
       "<table border=\"1\" class=\"dataframe\">\n",
       "  <thead>\n",
       "    <tr style=\"text-align: right;\">\n",
       "      <th></th>\n",
       "      <th>InvoiceNo</th>\n",
       "      <th>StockCode</th>\n",
       "      <th>Description</th>\n",
       "      <th>Quantity</th>\n",
       "      <th>InvoiceDate</th>\n",
       "      <th>UnitPrice</th>\n",
       "      <th>CustomerID</th>\n",
       "      <th>Country</th>\n",
       "    </tr>\n",
       "  </thead>\n",
       "  <tbody>\n",
       "  </tbody>\n",
       "</table>\n",
       "</div>"
      ],
      "text/plain": [
       "Empty DataFrame\n",
       "Columns: [InvoiceNo, StockCode, Description, Quantity, InvoiceDate, UnitPrice, CustomerID, Country]\n",
       "Index: []"
      ]
     },
     "execution_count": 218,
     "metadata": {},
     "output_type": "execute_result"
    }
   ],
   "source": [
    "#评估缺失数据\n",
    "print(original_data.isnull().sum())\n",
    "print(original_data[\"Description\"].isnull())\n",
    "original_data[original_data[\"Description\"].isnull()]\n",
    "original_data[(original_data[\"Description\"].isnull()) & (original_data[\"UnitPrice\"] != 0)]"
   ]
  },
  {
   "cell_type": "code",
   "execution_count": 220,
   "id": "577d8d42",
   "metadata": {},
   "outputs": [
    {
     "data": {
      "text/plain": [
       "0         False\n",
       "1         False\n",
       "2         False\n",
       "3         False\n",
       "4         False\n",
       "          ...  \n",
       "541904    False\n",
       "541905    False\n",
       "541906    False\n",
       "541907    False\n",
       "541908    False\n",
       "Length: 541909, dtype: bool"
      ]
     },
     "execution_count": 220,
     "metadata": {},
     "output_type": "execute_result"
    }
   ],
   "source": [
    "original_data.duplicated()"
   ]
  },
  {
   "cell_type": "code",
   "execution_count": 223,
   "id": "e0c54098",
   "metadata": {},
   "outputs": [
    {
     "data": {
      "text/plain": [
       "Country\n",
       "United Kingdom          495478\n",
       "Germany                   9495\n",
       "France                    8557\n",
       "EIRE                      8196\n",
       "Spain                     2533\n",
       "Netherlands               2371\n",
       "Belgium                   2069\n",
       "Switzerland               2002\n",
       "Portugal                  1519\n",
       "Australia                 1259\n",
       "Norway                    1086\n",
       "Italy                      803\n",
       "Channel Islands            758\n",
       "Finland                    695\n",
       "Cyprus                     622\n",
       "Sweden                     462\n",
       "Unspecified                446\n",
       "Austria                    401\n",
       "Denmark                    389\n",
       "Japan                      358\n",
       "Poland                     341\n",
       "Israel                     297\n",
       "USA                        291\n",
       "Hong Kong                  288\n",
       "Singapore                  229\n",
       "Iceland                    182\n",
       "Canada                     151\n",
       "Greece                     146\n",
       "Malta                      127\n",
       "United Arab Emirates        68\n",
       "European Community          61\n",
       "RSA                         58\n",
       "Lebanon                     45\n",
       "Lithuania                   35\n",
       "Brazil                      32\n",
       "Czech Republic              30\n",
       "Bahrain                     19\n",
       "Saudi Arabia                10\n",
       "Name: count, dtype: int64"
      ]
     },
     "execution_count": 223,
     "metadata": {},
     "output_type": "execute_result"
    }
   ],
   "source": [
    "original_data[\"Country\"].value_counts()"
   ]
  },
  {
   "cell_type": "code",
   "execution_count": 224,
   "id": "1e30b508",
   "metadata": {},
   "outputs": [
    {
     "data": {
      "text/html": [
       "<div>\n",
       "<style scoped>\n",
       "    .dataframe tbody tr th:only-of-type {\n",
       "        vertical-align: middle;\n",
       "    }\n",
       "\n",
       "    .dataframe tbody tr th {\n",
       "        vertical-align: top;\n",
       "    }\n",
       "\n",
       "    .dataframe thead th {\n",
       "        text-align: right;\n",
       "    }\n",
       "</style>\n",
       "<table border=\"1\" class=\"dataframe\">\n",
       "  <thead>\n",
       "    <tr style=\"text-align: right;\">\n",
       "      <th></th>\n",
       "      <th>Quantity</th>\n",
       "      <th>InvoiceDate</th>\n",
       "      <th>UnitPrice</th>\n",
       "      <th>CustomerID</th>\n",
       "    </tr>\n",
       "  </thead>\n",
       "  <tbody>\n",
       "    <tr>\n",
       "      <th>count</th>\n",
       "      <td>541909.000000</td>\n",
       "      <td>541909</td>\n",
       "      <td>541909.000000</td>\n",
       "      <td>406829.000000</td>\n",
       "    </tr>\n",
       "    <tr>\n",
       "      <th>mean</th>\n",
       "      <td>9.552250</td>\n",
       "      <td>2011-07-04 13:34:57.156386048</td>\n",
       "      <td>4.611114</td>\n",
       "      <td>15287.690570</td>\n",
       "    </tr>\n",
       "    <tr>\n",
       "      <th>min</th>\n",
       "      <td>-80995.000000</td>\n",
       "      <td>2010-12-01 08:26:00</td>\n",
       "      <td>-11062.060000</td>\n",
       "      <td>12346.000000</td>\n",
       "    </tr>\n",
       "    <tr>\n",
       "      <th>25%</th>\n",
       "      <td>1.000000</td>\n",
       "      <td>2011-03-28 11:34:00</td>\n",
       "      <td>1.250000</td>\n",
       "      <td>13953.000000</td>\n",
       "    </tr>\n",
       "    <tr>\n",
       "      <th>50%</th>\n",
       "      <td>3.000000</td>\n",
       "      <td>2011-07-19 17:17:00</td>\n",
       "      <td>2.080000</td>\n",
       "      <td>15152.000000</td>\n",
       "    </tr>\n",
       "    <tr>\n",
       "      <th>75%</th>\n",
       "      <td>10.000000</td>\n",
       "      <td>2011-10-19 11:27:00</td>\n",
       "      <td>4.130000</td>\n",
       "      <td>16791.000000</td>\n",
       "    </tr>\n",
       "    <tr>\n",
       "      <th>max</th>\n",
       "      <td>80995.000000</td>\n",
       "      <td>2011-12-09 12:50:00</td>\n",
       "      <td>38970.000000</td>\n",
       "      <td>18287.000000</td>\n",
       "    </tr>\n",
       "    <tr>\n",
       "      <th>std</th>\n",
       "      <td>218.081158</td>\n",
       "      <td>NaN</td>\n",
       "      <td>96.759853</td>\n",
       "      <td>1713.600303</td>\n",
       "    </tr>\n",
       "  </tbody>\n",
       "</table>\n",
       "</div>"
      ],
      "text/plain": [
       "            Quantity                    InvoiceDate      UnitPrice  \\\n",
       "count  541909.000000                         541909  541909.000000   \n",
       "mean        9.552250  2011-07-04 13:34:57.156386048       4.611114   \n",
       "min    -80995.000000            2010-12-01 08:26:00  -11062.060000   \n",
       "25%         1.000000            2011-03-28 11:34:00       1.250000   \n",
       "50%         3.000000            2011-07-19 17:17:00       2.080000   \n",
       "75%        10.000000            2011-10-19 11:27:00       4.130000   \n",
       "max     80995.000000            2011-12-09 12:50:00   38970.000000   \n",
       "std       218.081158                            NaN      96.759853   \n",
       "\n",
       "          CustomerID  \n",
       "count  406829.000000  \n",
       "mean    15287.690570  \n",
       "min     12346.000000  \n",
       "25%     13953.000000  \n",
       "50%     15152.000000  \n",
       "75%     16791.000000  \n",
       "max     18287.000000  \n",
       "std      1713.600303  "
      ]
     },
     "execution_count": 224,
     "metadata": {},
     "output_type": "execute_result"
    }
   ],
   "source": [
    "original_data.describe()"
   ]
  },
  {
   "cell_type": "code",
   "execution_count": 226,
   "id": "9a14af78",
   "metadata": {},
   "outputs": [
    {
     "data": {
      "text/html": [
       "<div>\n",
       "<style scoped>\n",
       "    .dataframe tbody tr th:only-of-type {\n",
       "        vertical-align: middle;\n",
       "    }\n",
       "\n",
       "    .dataframe tbody tr th {\n",
       "        vertical-align: top;\n",
       "    }\n",
       "\n",
       "    .dataframe thead th {\n",
       "        text-align: right;\n",
       "    }\n",
       "</style>\n",
       "<table border=\"1\" class=\"dataframe\">\n",
       "  <thead>\n",
       "    <tr style=\"text-align: right;\">\n",
       "      <th></th>\n",
       "      <th>InvoiceNo</th>\n",
       "      <th>StockCode</th>\n",
       "      <th>Description</th>\n",
       "      <th>Quantity</th>\n",
       "      <th>InvoiceDate</th>\n",
       "      <th>UnitPrice</th>\n",
       "      <th>CustomerID</th>\n",
       "      <th>Country</th>\n",
       "    </tr>\n",
       "  </thead>\n",
       "  <tbody>\n",
       "    <tr>\n",
       "      <th>141</th>\n",
       "      <td>C536379</td>\n",
       "      <td>D</td>\n",
       "      <td>Discount</td>\n",
       "      <td>-1</td>\n",
       "      <td>2010-12-01 09:41:00</td>\n",
       "      <td>27.50</td>\n",
       "      <td>14527.0</td>\n",
       "      <td>United Kingdom</td>\n",
       "    </tr>\n",
       "    <tr>\n",
       "      <th>154</th>\n",
       "      <td>C536383</td>\n",
       "      <td>35004C</td>\n",
       "      <td>SET OF 3 COLOURED  FLYING DUCKS</td>\n",
       "      <td>-1</td>\n",
       "      <td>2010-12-01 09:49:00</td>\n",
       "      <td>4.65</td>\n",
       "      <td>15311.0</td>\n",
       "      <td>United Kingdom</td>\n",
       "    </tr>\n",
       "    <tr>\n",
       "      <th>235</th>\n",
       "      <td>C536391</td>\n",
       "      <td>22556</td>\n",
       "      <td>PLASTERS IN TIN CIRCUS PARADE</td>\n",
       "      <td>-12</td>\n",
       "      <td>2010-12-01 10:24:00</td>\n",
       "      <td>1.65</td>\n",
       "      <td>17548.0</td>\n",
       "      <td>United Kingdom</td>\n",
       "    </tr>\n",
       "    <tr>\n",
       "      <th>236</th>\n",
       "      <td>C536391</td>\n",
       "      <td>21984</td>\n",
       "      <td>PACK OF 12 PINK PAISLEY TISSUES</td>\n",
       "      <td>-24</td>\n",
       "      <td>2010-12-01 10:24:00</td>\n",
       "      <td>0.29</td>\n",
       "      <td>17548.0</td>\n",
       "      <td>United Kingdom</td>\n",
       "    </tr>\n",
       "    <tr>\n",
       "      <th>237</th>\n",
       "      <td>C536391</td>\n",
       "      <td>21983</td>\n",
       "      <td>PACK OF 12 BLUE PAISLEY TISSUES</td>\n",
       "      <td>-24</td>\n",
       "      <td>2010-12-01 10:24:00</td>\n",
       "      <td>0.29</td>\n",
       "      <td>17548.0</td>\n",
       "      <td>United Kingdom</td>\n",
       "    </tr>\n",
       "    <tr>\n",
       "      <th>...</th>\n",
       "      <td>...</td>\n",
       "      <td>...</td>\n",
       "      <td>...</td>\n",
       "      <td>...</td>\n",
       "      <td>...</td>\n",
       "      <td>...</td>\n",
       "      <td>...</td>\n",
       "      <td>...</td>\n",
       "    </tr>\n",
       "    <tr>\n",
       "      <th>540449</th>\n",
       "      <td>C581490</td>\n",
       "      <td>23144</td>\n",
       "      <td>ZINC T-LIGHT HOLDER STARS SMALL</td>\n",
       "      <td>-11</td>\n",
       "      <td>2011-12-09 09:57:00</td>\n",
       "      <td>0.83</td>\n",
       "      <td>14397.0</td>\n",
       "      <td>United Kingdom</td>\n",
       "    </tr>\n",
       "    <tr>\n",
       "      <th>541541</th>\n",
       "      <td>C581499</td>\n",
       "      <td>M</td>\n",
       "      <td>Manual</td>\n",
       "      <td>-1</td>\n",
       "      <td>2011-12-09 10:28:00</td>\n",
       "      <td>224.69</td>\n",
       "      <td>15498.0</td>\n",
       "      <td>United Kingdom</td>\n",
       "    </tr>\n",
       "    <tr>\n",
       "      <th>541715</th>\n",
       "      <td>C581568</td>\n",
       "      <td>21258</td>\n",
       "      <td>VICTORIAN SEWING BOX LARGE</td>\n",
       "      <td>-5</td>\n",
       "      <td>2011-12-09 11:57:00</td>\n",
       "      <td>10.95</td>\n",
       "      <td>15311.0</td>\n",
       "      <td>United Kingdom</td>\n",
       "    </tr>\n",
       "    <tr>\n",
       "      <th>541716</th>\n",
       "      <td>C581569</td>\n",
       "      <td>84978</td>\n",
       "      <td>HANGING HEART JAR T-LIGHT HOLDER</td>\n",
       "      <td>-1</td>\n",
       "      <td>2011-12-09 11:58:00</td>\n",
       "      <td>1.25</td>\n",
       "      <td>17315.0</td>\n",
       "      <td>United Kingdom</td>\n",
       "    </tr>\n",
       "    <tr>\n",
       "      <th>541717</th>\n",
       "      <td>C581569</td>\n",
       "      <td>20979</td>\n",
       "      <td>36 PENCILS TUBE RED RETROSPOT</td>\n",
       "      <td>-5</td>\n",
       "      <td>2011-12-09 11:58:00</td>\n",
       "      <td>1.25</td>\n",
       "      <td>17315.0</td>\n",
       "      <td>United Kingdom</td>\n",
       "    </tr>\n",
       "  </tbody>\n",
       "</table>\n",
       "<p>10624 rows × 8 columns</p>\n",
       "</div>"
      ],
      "text/plain": [
       "       InvoiceNo StockCode                       Description  Quantity  \\\n",
       "141      C536379         D                          Discount        -1   \n",
       "154      C536383    35004C   SET OF 3 COLOURED  FLYING DUCKS        -1   \n",
       "235      C536391     22556    PLASTERS IN TIN CIRCUS PARADE        -12   \n",
       "236      C536391     21984  PACK OF 12 PINK PAISLEY TISSUES        -24   \n",
       "237      C536391     21983  PACK OF 12 BLUE PAISLEY TISSUES        -24   \n",
       "...          ...       ...                               ...       ...   \n",
       "540449   C581490     23144   ZINC T-LIGHT HOLDER STARS SMALL       -11   \n",
       "541541   C581499         M                            Manual        -1   \n",
       "541715   C581568     21258        VICTORIAN SEWING BOX LARGE        -5   \n",
       "541716   C581569     84978  HANGING HEART JAR T-LIGHT HOLDER        -1   \n",
       "541717   C581569     20979     36 PENCILS TUBE RED RETROSPOT        -5   \n",
       "\n",
       "               InvoiceDate  UnitPrice  CustomerID         Country  \n",
       "141    2010-12-01 09:41:00      27.50     14527.0  United Kingdom  \n",
       "154    2010-12-01 09:49:00       4.65     15311.0  United Kingdom  \n",
       "235    2010-12-01 10:24:00       1.65     17548.0  United Kingdom  \n",
       "236    2010-12-01 10:24:00       0.29     17548.0  United Kingdom  \n",
       "237    2010-12-01 10:24:00       0.29     17548.0  United Kingdom  \n",
       "...                    ...        ...         ...             ...  \n",
       "540449 2011-12-09 09:57:00       0.83     14397.0  United Kingdom  \n",
       "541541 2011-12-09 10:28:00     224.69     15498.0  United Kingdom  \n",
       "541715 2011-12-09 11:57:00      10.95     15311.0  United Kingdom  \n",
       "541716 2011-12-09 11:58:00       1.25     17315.0  United Kingdom  \n",
       "541717 2011-12-09 11:58:00       1.25     17315.0  United Kingdom  \n",
       "\n",
       "[10624 rows x 8 columns]"
      ]
     },
     "execution_count": 226,
     "metadata": {},
     "output_type": "execute_result"
    }
   ],
   "source": [
    "original_data[original_data['Quantity']<0]"
   ]
  },
  {
   "cell_type": "code",
   "execution_count": 228,
   "id": "47776676",
   "metadata": {},
   "outputs": [
    {
     "data": {
      "text/html": [
       "<div>\n",
       "<style scoped>\n",
       "    .dataframe tbody tr th:only-of-type {\n",
       "        vertical-align: middle;\n",
       "    }\n",
       "\n",
       "    .dataframe tbody tr th {\n",
       "        vertical-align: top;\n",
       "    }\n",
       "\n",
       "    .dataframe thead th {\n",
       "        text-align: right;\n",
       "    }\n",
       "</style>\n",
       "<table border=\"1\" class=\"dataframe\">\n",
       "  <thead>\n",
       "    <tr style=\"text-align: right;\">\n",
       "      <th></th>\n",
       "      <th>InvoiceNo</th>\n",
       "      <th>StockCode</th>\n",
       "      <th>Description</th>\n",
       "      <th>Quantity</th>\n",
       "      <th>InvoiceDate</th>\n",
       "      <th>UnitPrice</th>\n",
       "      <th>CustomerID</th>\n",
       "      <th>Country</th>\n",
       "    </tr>\n",
       "  </thead>\n",
       "  <tbody>\n",
       "    <tr>\n",
       "      <th>2406</th>\n",
       "      <td>536589</td>\n",
       "      <td>21777</td>\n",
       "      <td>NaN</td>\n",
       "      <td>-10</td>\n",
       "      <td>2010-12-01 16:50:00</td>\n",
       "      <td>0.0</td>\n",
       "      <td>NaN</td>\n",
       "      <td>United Kingdom</td>\n",
       "    </tr>\n",
       "    <tr>\n",
       "      <th>4347</th>\n",
       "      <td>536764</td>\n",
       "      <td>84952C</td>\n",
       "      <td>NaN</td>\n",
       "      <td>-38</td>\n",
       "      <td>2010-12-02 14:42:00</td>\n",
       "      <td>0.0</td>\n",
       "      <td>NaN</td>\n",
       "      <td>United Kingdom</td>\n",
       "    </tr>\n",
       "    <tr>\n",
       "      <th>7188</th>\n",
       "      <td>536996</td>\n",
       "      <td>22712</td>\n",
       "      <td>NaN</td>\n",
       "      <td>-20</td>\n",
       "      <td>2010-12-03 15:30:00</td>\n",
       "      <td>0.0</td>\n",
       "      <td>NaN</td>\n",
       "      <td>United Kingdom</td>\n",
       "    </tr>\n",
       "    <tr>\n",
       "      <th>7189</th>\n",
       "      <td>536997</td>\n",
       "      <td>22028</td>\n",
       "      <td>NaN</td>\n",
       "      <td>-20</td>\n",
       "      <td>2010-12-03 15:30:00</td>\n",
       "      <td>0.0</td>\n",
       "      <td>NaN</td>\n",
       "      <td>United Kingdom</td>\n",
       "    </tr>\n",
       "    <tr>\n",
       "      <th>7190</th>\n",
       "      <td>536998</td>\n",
       "      <td>85067</td>\n",
       "      <td>NaN</td>\n",
       "      <td>-6</td>\n",
       "      <td>2010-12-03 15:30:00</td>\n",
       "      <td>0.0</td>\n",
       "      <td>NaN</td>\n",
       "      <td>United Kingdom</td>\n",
       "    </tr>\n",
       "    <tr>\n",
       "      <th>...</th>\n",
       "      <td>...</td>\n",
       "      <td>...</td>\n",
       "      <td>...</td>\n",
       "      <td>...</td>\n",
       "      <td>...</td>\n",
       "      <td>...</td>\n",
       "      <td>...</td>\n",
       "      <td>...</td>\n",
       "    </tr>\n",
       "    <tr>\n",
       "      <th>535333</th>\n",
       "      <td>581210</td>\n",
       "      <td>23395</td>\n",
       "      <td>check</td>\n",
       "      <td>-26</td>\n",
       "      <td>2011-12-07 18:36:00</td>\n",
       "      <td>0.0</td>\n",
       "      <td>NaN</td>\n",
       "      <td>United Kingdom</td>\n",
       "    </tr>\n",
       "    <tr>\n",
       "      <th>535335</th>\n",
       "      <td>581212</td>\n",
       "      <td>22578</td>\n",
       "      <td>lost</td>\n",
       "      <td>-1050</td>\n",
       "      <td>2011-12-07 18:38:00</td>\n",
       "      <td>0.0</td>\n",
       "      <td>NaN</td>\n",
       "      <td>United Kingdom</td>\n",
       "    </tr>\n",
       "    <tr>\n",
       "      <th>535336</th>\n",
       "      <td>581213</td>\n",
       "      <td>22576</td>\n",
       "      <td>check</td>\n",
       "      <td>-30</td>\n",
       "      <td>2011-12-07 18:38:00</td>\n",
       "      <td>0.0</td>\n",
       "      <td>NaN</td>\n",
       "      <td>United Kingdom</td>\n",
       "    </tr>\n",
       "    <tr>\n",
       "      <th>536908</th>\n",
       "      <td>581226</td>\n",
       "      <td>23090</td>\n",
       "      <td>missing</td>\n",
       "      <td>-338</td>\n",
       "      <td>2011-12-08 09:56:00</td>\n",
       "      <td>0.0</td>\n",
       "      <td>NaN</td>\n",
       "      <td>United Kingdom</td>\n",
       "    </tr>\n",
       "    <tr>\n",
       "      <th>538919</th>\n",
       "      <td>581422</td>\n",
       "      <td>23169</td>\n",
       "      <td>smashed</td>\n",
       "      <td>-235</td>\n",
       "      <td>2011-12-08 15:24:00</td>\n",
       "      <td>0.0</td>\n",
       "      <td>NaN</td>\n",
       "      <td>United Kingdom</td>\n",
       "    </tr>\n",
       "  </tbody>\n",
       "</table>\n",
       "<p>1336 rows × 8 columns</p>\n",
       "</div>"
      ],
      "text/plain": [
       "       InvoiceNo StockCode Description  Quantity         InvoiceDate  \\\n",
       "2406      536589     21777         NaN       -10 2010-12-01 16:50:00   \n",
       "4347      536764    84952C         NaN       -38 2010-12-02 14:42:00   \n",
       "7188      536996     22712         NaN       -20 2010-12-03 15:30:00   \n",
       "7189      536997     22028         NaN       -20 2010-12-03 15:30:00   \n",
       "7190      536998     85067         NaN        -6 2010-12-03 15:30:00   \n",
       "...          ...       ...         ...       ...                 ...   \n",
       "535333    581210     23395       check       -26 2011-12-07 18:36:00   \n",
       "535335    581212     22578        lost     -1050 2011-12-07 18:38:00   \n",
       "535336    581213     22576       check       -30 2011-12-07 18:38:00   \n",
       "536908    581226     23090     missing      -338 2011-12-08 09:56:00   \n",
       "538919    581422     23169     smashed      -235 2011-12-08 15:24:00   \n",
       "\n",
       "        UnitPrice  CustomerID         Country  \n",
       "2406          0.0         NaN  United Kingdom  \n",
       "4347          0.0         NaN  United Kingdom  \n",
       "7188          0.0         NaN  United Kingdom  \n",
       "7189          0.0         NaN  United Kingdom  \n",
       "7190          0.0         NaN  United Kingdom  \n",
       "...           ...         ...             ...  \n",
       "535333        0.0         NaN  United Kingdom  \n",
       "535335        0.0         NaN  United Kingdom  \n",
       "535336        0.0         NaN  United Kingdom  \n",
       "536908        0.0         NaN  United Kingdom  \n",
       "538919        0.0         NaN  United Kingdom  \n",
       "\n",
       "[1336 rows x 8 columns]"
      ]
     },
     "execution_count": 228,
     "metadata": {},
     "output_type": "execute_result"
    }
   ],
   "source": [
    "original_data[(original_data['Quantity']<0) & (original_data[\"InvoiceNo\"].str[0] != \"C\")]"
   ]
  },
  {
   "cell_type": "code",
   "execution_count": 234,
   "id": "9cedc93b",
   "metadata": {},
   "outputs": [
    {
     "data": {
      "text/html": [
       "<div>\n",
       "<style scoped>\n",
       "    .dataframe tbody tr th:only-of-type {\n",
       "        vertical-align: middle;\n",
       "    }\n",
       "\n",
       "    .dataframe tbody tr th {\n",
       "        vertical-align: top;\n",
       "    }\n",
       "\n",
       "    .dataframe thead th {\n",
       "        text-align: right;\n",
       "    }\n",
       "</style>\n",
       "<table border=\"1\" class=\"dataframe\">\n",
       "  <thead>\n",
       "    <tr style=\"text-align: right;\">\n",
       "      <th></th>\n",
       "      <th>InvoiceNo</th>\n",
       "      <th>StockCode</th>\n",
       "      <th>Description</th>\n",
       "      <th>Quantity</th>\n",
       "      <th>InvoiceDate</th>\n",
       "      <th>UnitPrice</th>\n",
       "      <th>CustomerID</th>\n",
       "      <th>Country</th>\n",
       "    </tr>\n",
       "  </thead>\n",
       "  <tbody>\n",
       "  </tbody>\n",
       "</table>\n",
       "</div>"
      ],
      "text/plain": [
       "Empty DataFrame\n",
       "Columns: [InvoiceNo, StockCode, Description, Quantity, InvoiceDate, UnitPrice, CustomerID, Country]\n",
       "Index: []"
      ]
     },
     "execution_count": 234,
     "metadata": {},
     "output_type": "execute_result"
    }
   ],
   "source": [
    "original_data[(original_data['Quantity']<0) & (original_data[\"InvoiceNo\"].str[0] != \"C\")& (original_data[\"UnitPrice\"]!=0)]"
   ]
  },
  {
   "cell_type": "code",
   "execution_count": 235,
   "id": "ff8d1c71",
   "metadata": {},
   "outputs": [
    {
     "data": {
      "text/html": [
       "<div>\n",
       "<style scoped>\n",
       "    .dataframe tbody tr th:only-of-type {\n",
       "        vertical-align: middle;\n",
       "    }\n",
       "\n",
       "    .dataframe tbody tr th {\n",
       "        vertical-align: top;\n",
       "    }\n",
       "\n",
       "    .dataframe thead th {\n",
       "        text-align: right;\n",
       "    }\n",
       "</style>\n",
       "<table border=\"1\" class=\"dataframe\">\n",
       "  <thead>\n",
       "    <tr style=\"text-align: right;\">\n",
       "      <th></th>\n",
       "      <th>InvoiceNo</th>\n",
       "      <th>StockCode</th>\n",
       "      <th>Description</th>\n",
       "      <th>Quantity</th>\n",
       "      <th>InvoiceDate</th>\n",
       "      <th>UnitPrice</th>\n",
       "      <th>CustomerID</th>\n",
       "      <th>Country</th>\n",
       "    </tr>\n",
       "  </thead>\n",
       "  <tbody>\n",
       "    <tr>\n",
       "      <th>299983</th>\n",
       "      <td>A563186</td>\n",
       "      <td>B</td>\n",
       "      <td>Adjust bad debt</td>\n",
       "      <td>1</td>\n",
       "      <td>2011-08-12 14:51:00</td>\n",
       "      <td>-11062.06</td>\n",
       "      <td>NaN</td>\n",
       "      <td>United Kingdom</td>\n",
       "    </tr>\n",
       "    <tr>\n",
       "      <th>299984</th>\n",
       "      <td>A563187</td>\n",
       "      <td>B</td>\n",
       "      <td>Adjust bad debt</td>\n",
       "      <td>1</td>\n",
       "      <td>2011-08-12 14:52:00</td>\n",
       "      <td>-11062.06</td>\n",
       "      <td>NaN</td>\n",
       "      <td>United Kingdom</td>\n",
       "    </tr>\n",
       "  </tbody>\n",
       "</table>\n",
       "</div>"
      ],
      "text/plain": [
       "       InvoiceNo StockCode      Description  Quantity         InvoiceDate  \\\n",
       "299983   A563186         B  Adjust bad debt         1 2011-08-12 14:51:00   \n",
       "299984   A563187         B  Adjust bad debt         1 2011-08-12 14:52:00   \n",
       "\n",
       "        UnitPrice  CustomerID         Country  \n",
       "299983  -11062.06         NaN  United Kingdom  \n",
       "299984  -11062.06         NaN  United Kingdom  "
      ]
     },
     "execution_count": 235,
     "metadata": {},
     "output_type": "execute_result"
    }
   ],
   "source": [
    "original_data[original_data[\"UnitPrice\"]<0]"
   ]
  },
  {
   "cell_type": "code",
   "execution_count": 236,
   "id": "f671e7b9",
   "metadata": {},
   "outputs": [],
   "source": [
    "cleaned_data=original_data.copy()"
   ]
  },
  {
   "cell_type": "code",
   "execution_count": 241,
   "id": "2a5036dc",
   "metadata": {},
   "outputs": [
    {
     "data": {
      "text/plain": [
       "0        2010-12-01 08:26:00\n",
       "1        2010-12-01 08:26:00\n",
       "2        2010-12-01 08:26:00\n",
       "3        2010-12-01 08:26:00\n",
       "4        2010-12-01 08:26:00\n",
       "                 ...        \n",
       "541904   2011-12-09 12:50:00\n",
       "541905   2011-12-09 12:50:00\n",
       "541906   2011-12-09 12:50:00\n",
       "541907   2011-12-09 12:50:00\n",
       "541908   2011-12-09 12:50:00\n",
       "Name: InvoiceDate, Length: 541909, dtype: datetime64[ns]"
      ]
     },
     "execution_count": 241,
     "metadata": {},
     "output_type": "execute_result"
    }
   ],
   "source": [
    "cleaned_data[\"InvoiceDate\"]=pd.to_datetime(cleaned_data[\"InvoiceDate\"])\n",
    "cleaned_data[\"InvoiceDate\"]"
   ]
  },
  {
   "cell_type": "code",
   "execution_count": 245,
   "id": "e2def8d1",
   "metadata": {},
   "outputs": [
    {
     "data": {
      "text/plain": [
       "0         17850.0\n",
       "1         17850.0\n",
       "2         17850.0\n",
       "3         17850.0\n",
       "4         17850.0\n",
       "           ...   \n",
       "541904    12680.0\n",
       "541905    12680.0\n",
       "541906    12680.0\n",
       "541907    12680.0\n",
       "541908    12680.0\n",
       "Name: CustomerID, Length: 541909, dtype: object"
      ]
     },
     "execution_count": 245,
     "metadata": {},
     "output_type": "execute_result"
    }
   ],
   "source": [
    "cleaned_data[\"CustomerID\"]=cleaned_data[\"CustomerID\"].astype(str)\n",
    "cleaned_data[\"CustomerID\"]"
   ]
  },
  {
   "cell_type": "code",
   "execution_count": 246,
   "id": "5478a9b9",
   "metadata": {},
   "outputs": [
    {
     "data": {
      "text/plain": [
       "0         17850\n",
       "1         17850\n",
       "2         17850\n",
       "3         17850\n",
       "4         17850\n",
       "          ...  \n",
       "541904    12680\n",
       "541905    12680\n",
       "541906    12680\n",
       "541907    12680\n",
       "541908    12680\n",
       "Name: CustomerID, Length: 541909, dtype: object"
      ]
     },
     "execution_count": 246,
     "metadata": {},
     "output_type": "execute_result"
    }
   ],
   "source": [
    "cleaned_data[\"CustomerID\"]=cleaned_data[\"CustomerID\"].str.slice(0,-2)\n",
    "cleaned_data[\"CustomerID\"]"
   ]
  },
  {
   "cell_type": "code",
   "execution_count": 262,
   "id": "16ddac4d",
   "metadata": {},
   "outputs": [],
   "source": [
    "cleaned_data.dropna(subset=[\"Description\"], inplace=True)\n",
    "#cleaned_data[\"Description\"]                       "
   ]
  },
  {
   "cell_type": "code",
   "execution_count": 263,
   "id": "451b5a64",
   "metadata": {
    "scrolled": true
   },
   "outputs": [
    {
     "data": {
      "text/plain": [
       "0"
      ]
     },
     "execution_count": 263,
     "metadata": {},
     "output_type": "execute_result"
    }
   ],
   "source": [
    "cleaned_data[\"Description\"].isnull().sum()"
   ]
  },
  {
   "cell_type": "code",
   "execution_count": 269,
   "id": "68e0267c",
   "metadata": {},
   "outputs": [],
   "source": [
    "cleaned_data[\"Country\"]=cleaned_data[\"Country\"].replace({\"USA\": \"United State\", \"UK\":\"United Kingdom\"})"
   ]
  },
  {
   "cell_type": "code",
   "execution_count": 270,
   "id": "f5d782d1",
   "metadata": {},
   "outputs": [
    {
     "data": {
      "text/plain": [
       "0"
      ]
     },
     "execution_count": 270,
     "metadata": {},
     "output_type": "execute_result"
    }
   ],
   "source": [
    "len(cleaned_data[cleaned_data[\"Country\"]==\"USA\"])"
   ]
  },
  {
   "cell_type": "code",
   "execution_count": 271,
   "id": "cc31b2f9",
   "metadata": {},
   "outputs": [
    {
     "data": {
      "text/plain": [
       "0"
      ]
     },
     "execution_count": 271,
     "metadata": {},
     "output_type": "execute_result"
    }
   ],
   "source": [
    "len(cleaned_data[cleaned_data[\"Country\"]==\"UK\"])"
   ]
  },
  {
   "cell_type": "code",
   "execution_count": 275,
   "id": "5719c047",
   "metadata": {},
   "outputs": [],
   "source": [
    "cleaned_data=cleaned_data[cleaned_data[\"Quantity\"]>=0]"
   ]
  },
  {
   "cell_type": "code",
   "execution_count": 276,
   "id": "d3c9b13e",
   "metadata": {},
   "outputs": [
    {
     "data": {
      "text/plain": [
       "0"
      ]
     },
     "execution_count": 276,
     "metadata": {},
     "output_type": "execute_result"
    }
   ],
   "source": [
    "len(cleaned_data[cleaned_data[\"Quantity\"]<0])"
   ]
  },
  {
   "cell_type": "code",
   "execution_count": 280,
   "id": "de032137",
   "metadata": {},
   "outputs": [],
   "source": [
    "cleaned_data.to_csv(\"Online_retail_cleaned.csv\", index=False)"
   ]
  },
  {
   "cell_type": "code",
   "execution_count": 281,
   "id": "d8652ff0",
   "metadata": {},
   "outputs": [
    {
     "name": "stderr",
     "output_type": "stream",
     "text": [
      "/var/folders/nj/tt0mjykn4pz8vj9lbcmttwjm0000gn/T/ipykernel_5682/3024234675.py:1: DtypeWarning: Columns (0) have mixed types. Specify dtype option on import or set low_memory=False.\n",
      "  pd.read_csv(\"Online_retail_cleaned.csv\")\n"
     ]
    },
    {
     "data": {
      "text/html": [
       "<div>\n",
       "<style scoped>\n",
       "    .dataframe tbody tr th:only-of-type {\n",
       "        vertical-align: middle;\n",
       "    }\n",
       "\n",
       "    .dataframe tbody tr th {\n",
       "        vertical-align: top;\n",
       "    }\n",
       "\n",
       "    .dataframe thead th {\n",
       "        text-align: right;\n",
       "    }\n",
       "</style>\n",
       "<table border=\"1\" class=\"dataframe\">\n",
       "  <thead>\n",
       "    <tr style=\"text-align: right;\">\n",
       "      <th></th>\n",
       "      <th>InvoiceNo</th>\n",
       "      <th>StockCode</th>\n",
       "      <th>Description</th>\n",
       "      <th>Quantity</th>\n",
       "      <th>InvoiceDate</th>\n",
       "      <th>UnitPrice</th>\n",
       "      <th>CustomerID</th>\n",
       "      <th>Country</th>\n",
       "    </tr>\n",
       "  </thead>\n",
       "  <tbody>\n",
       "    <tr>\n",
       "      <th>0</th>\n",
       "      <td>536365</td>\n",
       "      <td>85123A</td>\n",
       "      <td>WHITE HANGING HEART T-LIGHT HOLDER</td>\n",
       "      <td>6</td>\n",
       "      <td>2010-12-01 08:26:00</td>\n",
       "      <td>2.55</td>\n",
       "      <td>17850</td>\n",
       "      <td>United Kingdom</td>\n",
       "    </tr>\n",
       "    <tr>\n",
       "      <th>1</th>\n",
       "      <td>536365</td>\n",
       "      <td>71053</td>\n",
       "      <td>WHITE METAL LANTERN</td>\n",
       "      <td>6</td>\n",
       "      <td>2010-12-01 08:26:00</td>\n",
       "      <td>3.39</td>\n",
       "      <td>17850</td>\n",
       "      <td>United Kingdom</td>\n",
       "    </tr>\n",
       "    <tr>\n",
       "      <th>2</th>\n",
       "      <td>536365</td>\n",
       "      <td>84406B</td>\n",
       "      <td>CREAM CUPID HEARTS COAT HANGER</td>\n",
       "      <td>8</td>\n",
       "      <td>2010-12-01 08:26:00</td>\n",
       "      <td>2.75</td>\n",
       "      <td>17850</td>\n",
       "      <td>United Kingdom</td>\n",
       "    </tr>\n",
       "    <tr>\n",
       "      <th>3</th>\n",
       "      <td>536365</td>\n",
       "      <td>84029G</td>\n",
       "      <td>KNITTED UNION FLAG HOT WATER BOTTLE</td>\n",
       "      <td>6</td>\n",
       "      <td>2010-12-01 08:26:00</td>\n",
       "      <td>3.39</td>\n",
       "      <td>17850</td>\n",
       "      <td>United Kingdom</td>\n",
       "    </tr>\n",
       "    <tr>\n",
       "      <th>4</th>\n",
       "      <td>536365</td>\n",
       "      <td>84029E</td>\n",
       "      <td>RED WOOLLY HOTTIE WHITE HEART.</td>\n",
       "      <td>6</td>\n",
       "      <td>2010-12-01 08:26:00</td>\n",
       "      <td>3.39</td>\n",
       "      <td>17850</td>\n",
       "      <td>United Kingdom</td>\n",
       "    </tr>\n",
       "    <tr>\n",
       "      <th>...</th>\n",
       "      <td>...</td>\n",
       "      <td>...</td>\n",
       "      <td>...</td>\n",
       "      <td>...</td>\n",
       "      <td>...</td>\n",
       "      <td>...</td>\n",
       "      <td>...</td>\n",
       "      <td>...</td>\n",
       "    </tr>\n",
       "    <tr>\n",
       "      <th>530688</th>\n",
       "      <td>581587</td>\n",
       "      <td>22613</td>\n",
       "      <td>PACK OF 20 SPACEBOY NAPKINS</td>\n",
       "      <td>12</td>\n",
       "      <td>2011-12-09 12:50:00</td>\n",
       "      <td>0.85</td>\n",
       "      <td>12680</td>\n",
       "      <td>France</td>\n",
       "    </tr>\n",
       "    <tr>\n",
       "      <th>530689</th>\n",
       "      <td>581587</td>\n",
       "      <td>22899</td>\n",
       "      <td>CHILDREN'S APRON DOLLY GIRL</td>\n",
       "      <td>6</td>\n",
       "      <td>2011-12-09 12:50:00</td>\n",
       "      <td>2.10</td>\n",
       "      <td>12680</td>\n",
       "      <td>France</td>\n",
       "    </tr>\n",
       "    <tr>\n",
       "      <th>530690</th>\n",
       "      <td>581587</td>\n",
       "      <td>23254</td>\n",
       "      <td>CHILDRENS CUTLERY DOLLY GIRL</td>\n",
       "      <td>4</td>\n",
       "      <td>2011-12-09 12:50:00</td>\n",
       "      <td>4.15</td>\n",
       "      <td>12680</td>\n",
       "      <td>France</td>\n",
       "    </tr>\n",
       "    <tr>\n",
       "      <th>530691</th>\n",
       "      <td>581587</td>\n",
       "      <td>23255</td>\n",
       "      <td>CHILDRENS CUTLERY CIRCUS PARADE</td>\n",
       "      <td>4</td>\n",
       "      <td>2011-12-09 12:50:00</td>\n",
       "      <td>4.15</td>\n",
       "      <td>12680</td>\n",
       "      <td>France</td>\n",
       "    </tr>\n",
       "    <tr>\n",
       "      <th>530692</th>\n",
       "      <td>581587</td>\n",
       "      <td>22138</td>\n",
       "      <td>BAKING SET 9 PIECE RETROSPOT</td>\n",
       "      <td>3</td>\n",
       "      <td>2011-12-09 12:50:00</td>\n",
       "      <td>4.95</td>\n",
       "      <td>12680</td>\n",
       "      <td>France</td>\n",
       "    </tr>\n",
       "  </tbody>\n",
       "</table>\n",
       "<p>530693 rows × 8 columns</p>\n",
       "</div>"
      ],
      "text/plain": [
       "       InvoiceNo StockCode                          Description  Quantity  \\\n",
       "0         536365    85123A   WHITE HANGING HEART T-LIGHT HOLDER         6   \n",
       "1         536365     71053                  WHITE METAL LANTERN         6   \n",
       "2         536365    84406B       CREAM CUPID HEARTS COAT HANGER         8   \n",
       "3         536365    84029G  KNITTED UNION FLAG HOT WATER BOTTLE         6   \n",
       "4         536365    84029E       RED WOOLLY HOTTIE WHITE HEART.         6   \n",
       "...          ...       ...                                  ...       ...   \n",
       "530688    581587     22613          PACK OF 20 SPACEBOY NAPKINS        12   \n",
       "530689    581587     22899         CHILDREN'S APRON DOLLY GIRL          6   \n",
       "530690    581587     23254        CHILDRENS CUTLERY DOLLY GIRL          4   \n",
       "530691    581587     23255      CHILDRENS CUTLERY CIRCUS PARADE         4   \n",
       "530692    581587     22138        BAKING SET 9 PIECE RETROSPOT          3   \n",
       "\n",
       "                InvoiceDate  UnitPrice CustomerID         Country  \n",
       "0       2010-12-01 08:26:00       2.55      17850  United Kingdom  \n",
       "1       2010-12-01 08:26:00       3.39      17850  United Kingdom  \n",
       "2       2010-12-01 08:26:00       2.75      17850  United Kingdom  \n",
       "3       2010-12-01 08:26:00       3.39      17850  United Kingdom  \n",
       "4       2010-12-01 08:26:00       3.39      17850  United Kingdom  \n",
       "...                     ...        ...        ...             ...  \n",
       "530688  2011-12-09 12:50:00       0.85      12680          France  \n",
       "530689  2011-12-09 12:50:00       2.10      12680          France  \n",
       "530690  2011-12-09 12:50:00       4.15      12680          France  \n",
       "530691  2011-12-09 12:50:00       4.15      12680          France  \n",
       "530692  2011-12-09 12:50:00       4.95      12680          France  \n",
       "\n",
       "[530693 rows x 8 columns]"
      ]
     },
     "execution_count": 281,
     "metadata": {},
     "output_type": "execute_result"
    }
   ],
   "source": [
    "pd.read_csv(\"Online_retail_cleaned.csv\")"
   ]
  },
  {
   "cell_type": "code",
   "execution_count": null,
   "id": "3b05d6db",
   "metadata": {},
   "outputs": [],
   "source": []
  }
 ],
 "metadata": {
  "kernelspec": {
   "display_name": "Python 3 (ipykernel)",
   "language": "python",
   "name": "python3"
  },
  "language_info": {
   "codemirror_mode": {
    "name": "ipython",
    "version": 3
   },
   "file_extension": ".py",
   "mimetype": "text/x-python",
   "name": "python",
   "nbconvert_exporter": "python",
   "pygments_lexer": "ipython3",
   "version": "3.11.5"
  }
 },
 "nbformat": 4,
 "nbformat_minor": 5
}
